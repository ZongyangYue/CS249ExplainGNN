{
  "nbformat": 4,
  "nbformat_minor": 0,
  "metadata": {
    "colab": {
      "name": "GCN_MUTAG.ipynb",
      "provenance": [],
      "collapsed_sections": []
    },
    "kernelspec": {
      "name": "python3",
      "display_name": "Python 3"
    },
    "language_info": {
      "name": "python"
    },
    "accelerator": "GPU"
  },
  "cells": [
    {
      "cell_type": "code",
      "source": [
        "!pip install torch_geometric"
      ],
      "metadata": {
        "colab": {
          "base_uri": "https://localhost:8080/"
        },
        "id": "yxDeLwqQq6gZ",
        "outputId": "d804e9ba-134e-4d7b-e39e-f49d6a16e678"
      },
      "execution_count": 1,
      "outputs": [
        {
          "output_type": "stream",
          "name": "stdout",
          "text": [
            "Looking in indexes: https://pypi.org/simple, https://us-python.pkg.dev/colab-wheels/public/simple/\n",
            "Collecting torch_geometric\n",
            "  Downloading torch_geometric-2.0.4.tar.gz (407 kB)\n",
            "\u001b[K     |████████████████████████████████| 407 kB 8.0 MB/s \n",
            "\u001b[?25hRequirement already satisfied: tqdm in /usr/local/lib/python3.7/dist-packages (from torch_geometric) (4.64.0)\n",
            "Requirement already satisfied: numpy in /usr/local/lib/python3.7/dist-packages (from torch_geometric) (1.21.6)\n",
            "Requirement already satisfied: scipy in /usr/local/lib/python3.7/dist-packages (from torch_geometric) (1.4.1)\n",
            "Requirement already satisfied: pandas in /usr/local/lib/python3.7/dist-packages (from torch_geometric) (1.3.5)\n",
            "Requirement already satisfied: jinja2 in /usr/local/lib/python3.7/dist-packages (from torch_geometric) (2.11.3)\n",
            "Requirement already satisfied: requests in /usr/local/lib/python3.7/dist-packages (from torch_geometric) (2.23.0)\n",
            "Requirement already satisfied: pyparsing in /usr/local/lib/python3.7/dist-packages (from torch_geometric) (3.0.9)\n",
            "Requirement already satisfied: scikit-learn in /usr/local/lib/python3.7/dist-packages (from torch_geometric) (1.0.2)\n",
            "Requirement already satisfied: MarkupSafe>=0.23 in /usr/local/lib/python3.7/dist-packages (from jinja2->torch_geometric) (2.0.1)\n",
            "Requirement already satisfied: pytz>=2017.3 in /usr/local/lib/python3.7/dist-packages (from pandas->torch_geometric) (2022.1)\n",
            "Requirement already satisfied: python-dateutil>=2.7.3 in /usr/local/lib/python3.7/dist-packages (from pandas->torch_geometric) (2.8.2)\n",
            "Requirement already satisfied: six>=1.5 in /usr/local/lib/python3.7/dist-packages (from python-dateutil>=2.7.3->pandas->torch_geometric) (1.15.0)\n",
            "Requirement already satisfied: certifi>=2017.4.17 in /usr/local/lib/python3.7/dist-packages (from requests->torch_geometric) (2022.5.18.1)\n",
            "Requirement already satisfied: idna<3,>=2.5 in /usr/local/lib/python3.7/dist-packages (from requests->torch_geometric) (2.10)\n",
            "Requirement already satisfied: urllib3!=1.25.0,!=1.25.1,<1.26,>=1.21.1 in /usr/local/lib/python3.7/dist-packages (from requests->torch_geometric) (1.24.3)\n",
            "Requirement already satisfied: chardet<4,>=3.0.2 in /usr/local/lib/python3.7/dist-packages (from requests->torch_geometric) (3.0.4)\n",
            "Requirement already satisfied: joblib>=0.11 in /usr/local/lib/python3.7/dist-packages (from scikit-learn->torch_geometric) (1.1.0)\n",
            "Requirement already satisfied: threadpoolctl>=2.0.0 in /usr/local/lib/python3.7/dist-packages (from scikit-learn->torch_geometric) (3.1.0)\n",
            "Building wheels for collected packages: torch-geometric\n",
            "  Building wheel for torch-geometric (setup.py) ... \u001b[?25l\u001b[?25hdone\n",
            "  Created wheel for torch-geometric: filename=torch_geometric-2.0.4-py3-none-any.whl size=616603 sha256=e7f95147b4904d44b3ee9cf88f971cb1b8798c08fae30614006a36196f025eee\n",
            "  Stored in directory: /root/.cache/pip/wheels/18/a6/a4/ca18c3051fcead866fe7b85700ee2240d883562a1bc70ce421\n",
            "Successfully built torch-geometric\n",
            "Installing collected packages: torch-geometric\n",
            "Successfully installed torch-geometric-2.0.4\n"
          ]
        }
      ]
    },
    {
      "cell_type": "code",
      "source": [
        "import os\n",
        "import torch\n",
        "os.environ['TORCH'] = torch.__version__\n",
        "print(torch.__version__)\n",
        "\n",
        "!pip install -q torch-scatter -f https://data.pyg.org/whl/torch-${TORCH}.html\n",
        "!pip install -q torch-sparse -f https://data.pyg.org/whl/torch-${TORCH}.html\n",
        "!pip install -q git+https://github.com/pyg-team/pytorch_geometric.git"
      ],
      "metadata": {
        "colab": {
          "base_uri": "https://localhost:8080/"
        },
        "id": "z8XgxMpyrCLt",
        "outputId": "27b51379-3d59-4df5-d46c-bf9c130dc1b0"
      },
      "execution_count": 2,
      "outputs": [
        {
          "output_type": "stream",
          "name": "stdout",
          "text": [
            "1.11.0+cu113\n",
            "\u001b[K     |████████████████████████████████| 7.9 MB 8.9 MB/s \n",
            "\u001b[K     |████████████████████████████████| 3.5 MB 8.2 MB/s \n",
            "\u001b[?25h  Building wheel for torch-geometric (setup.py) ... \u001b[?25l\u001b[?25hdone\n"
          ]
        }
      ]
    },
    {
      "cell_type": "code",
      "execution_count": 3,
      "metadata": {
        "colab": {
          "base_uri": "https://localhost:8080/"
        },
        "id": "Fm8syU3Gqhrp",
        "outputId": "4b552df7-71b7-4016-e827-f1c004266e48"
      },
      "outputs": [
        {
          "output_type": "stream",
          "name": "stderr",
          "text": [
            "Downloading https://www.chrsmrrs.com/graphkerneldatasets/MUTAG.zip\n"
          ]
        },
        {
          "output_type": "stream",
          "name": "stdout",
          "text": [
            "MUTAG(188)\n",
            "Data(edge_index=[2, 38], x=[17, 7], edge_attr=[38, 4], y=[1])\n"
          ]
        },
        {
          "output_type": "stream",
          "name": "stderr",
          "text": [
            "Extracting data/MUTAG/MUTAG/MUTAG.zip\n",
            "Processing...\n",
            "Done!\n"
          ]
        }
      ],
      "source": [
        "import os\n",
        "import torch\n",
        "import matplotlib.pyplot as plt\n",
        "\n",
        "from torch_geometric.nn import GCNConv\n",
        "from torch_geometric.datasets import TUDataset\n",
        "from torch_geometric.transforms import NormalizeFeatures\n",
        "import torch_geometric.transforms as T\n",
        "\n",
        "transform = T.Compose([T.GCNNorm(), T.NormalizeFeatures()])\n",
        "\n",
        "dataset = TUDataset(root=\"data/MUTAG\", name=\"MUTAG\", transform=None)\n",
        "print(dataset)\n",
        "data = dataset[0]\n",
        "print(data)"
      ]
    },
    {
      "cell_type": "code",
      "source": [
        "print(f'Number of classes: {dataset.num_classes}')"
      ],
      "metadata": {
        "colab": {
          "base_uri": "https://localhost:8080/"
        },
        "id": "Cufp277lhpGi",
        "outputId": "5cb4b00b-0136-4bf9-a15f-aa774a9c896b"
      },
      "execution_count": 4,
      "outputs": [
        {
          "output_type": "stream",
          "name": "stdout",
          "text": [
            "Number of classes: 2\n"
          ]
        }
      ]
    },
    {
      "cell_type": "code",
      "source": [
        "import numpy as np\n",
        "torch.manual_seed(12345)\n",
        "dataset = dataset.shuffle()\n",
        "\n",
        "split = int(0.8 * len(dataset))\n",
        "train_dataset, test_dataset = dataset[:split], dataset[split:]\n",
        "\n",
        "print(f'Number of training graphs: {len(train_dataset)}')\n",
        "print(f'Number of test graphs: {len(test_dataset)}')"
      ],
      "metadata": {
        "colab": {
          "base_uri": "https://localhost:8080/"
        },
        "id": "qMMguQWkwEeD",
        "outputId": "72acb8e5-6cb6-4c53-8455-d9e927f6f6c7"
      },
      "execution_count": 5,
      "outputs": [
        {
          "output_type": "stream",
          "name": "stdout",
          "text": [
            "Number of training graphs: 150\n",
            "Number of test graphs: 38\n"
          ]
        }
      ]
    },
    {
      "cell_type": "code",
      "source": [
        "from torch_geometric.loader import DataLoader\n",
        "\n",
        "train_loader = DataLoader(train_dataset, batch_size=64, shuffle=True)\n",
        "test_loader = DataLoader(test_dataset, batch_size=64, shuffle=False)\n",
        "\n",
        "for step, data in enumerate(train_loader):\n",
        "    print(f'Step {step + 1}:')\n",
        "    print('=======')\n",
        "    print(f'Number of graphs in the current batch: {data.num_graphs}')\n",
        "    print(data)\n",
        "    print()"
      ],
      "metadata": {
        "colab": {
          "base_uri": "https://localhost:8080/"
        },
        "id": "LVPP02XYx4-l",
        "outputId": "e253ff5b-f6c9-4c04-e0bb-c18bea060c79"
      },
      "execution_count": 6,
      "outputs": [
        {
          "output_type": "stream",
          "name": "stdout",
          "text": [
            "Step 1:\n",
            "=======\n",
            "Number of graphs in the current batch: 64\n",
            "DataBatch(edge_index=[2, 2636], x=[1188, 7], edge_attr=[2636, 4], y=[64], batch=[1188], ptr=[65])\n",
            "\n",
            "Step 2:\n",
            "=======\n",
            "Number of graphs in the current batch: 64\n",
            "DataBatch(edge_index=[2, 2506], x=[1139, 7], edge_attr=[2506, 4], y=[64], batch=[1139], ptr=[65])\n",
            "\n",
            "Step 3:\n",
            "=======\n",
            "Number of graphs in the current batch: 22\n",
            "DataBatch(edge_index=[2, 852], x=[387, 7], edge_attr=[852, 4], y=[22], batch=[387], ptr=[23])\n",
            "\n"
          ]
        }
      ]
    },
    {
      "cell_type": "code",
      "source": [
        "from torch.nn import Linear\n",
        "import torch.nn.functional as F\n",
        "from torch_geometric.nn import GCNConv\n",
        "from torch_geometric.nn import global_mean_pool\n",
        "\n",
        "\n",
        "class GCN(torch.nn.Module):\n",
        "    def __init__(self, hidden_channels):\n",
        "        super(GCN, self).__init__()\n",
        "        torch.manual_seed(12345)\n",
        "        self.conv1 = GCNConv(dataset.num_node_features, hidden_channels)\n",
        "        self.conv2 = GCNConv(hidden_channels, hidden_channels)\n",
        "        self.conv3 = GCNConv(hidden_channels, hidden_channels)\n",
        "        self.lin = Linear(hidden_channels, dataset.num_classes)\n",
        "\n",
        "    def forward(self, x, edge_index, batch):\n",
        "        # 1. Obtain node embeddings \n",
        "        x = self.conv1(x, edge_index)\n",
        "        x = x.relu()\n",
        "        x = self.conv2(x, edge_index)\n",
        "        x = x.relu()\n",
        "        x = self.conv3(x, edge_index)\n",
        "\n",
        "        # 2. Readout layer\n",
        "        x = global_mean_pool(x, batch)  # [batch_size, hidden_channels]\n",
        "\n",
        "        # 3. Apply a final classifier\n",
        "        x = F.dropout(x, p=0.5, training=self.training)\n",
        "        x = self.lin(x)\n",
        "        \n",
        "        return x\n",
        "\n",
        "model = GCN(hidden_channels=64)\n",
        "print(model)"
      ],
      "metadata": {
        "colab": {
          "base_uri": "https://localhost:8080/"
        },
        "id": "wYkcNo3fxXbd",
        "outputId": "13a8e10c-df21-4376-f465-516d6355fda0"
      },
      "execution_count": 7,
      "outputs": [
        {
          "output_type": "stream",
          "name": "stdout",
          "text": [
            "GCN(\n",
            "  (conv1): GCNConv(7, 64)\n",
            "  (conv2): GCNConv(64, 64)\n",
            "  (conv3): GCNConv(64, 64)\n",
            "  (lin): Linear(in_features=64, out_features=2, bias=True)\n",
            ")\n"
          ]
        }
      ]
    },
    {
      "cell_type": "code",
      "source": [
        "from IPython.display import Javascript\n",
        "display(Javascript('''google.colab.output.setIframeHeight(0, true, {maxHeight: 300})'''))\n",
        "\n",
        "model = GCN(hidden_channels=64)\n",
        "# optimizer = torch.optim.Adam(model.parameters(), lr=0.01)\n",
        "optimizer = torch.optim.SGD(model.parameters(), lr=0.01)\n",
        "criterion = torch.nn.CrossEntropyLoss()\n",
        "\n",
        "def train():\n",
        "    model.train()\n",
        "\n",
        "    for data in train_loader:  # Iterate in batches over the training dataset.\n",
        "         out = model(data.x, data.edge_index, data.batch)  # Perform a single forward pass.\n",
        "         loss = criterion(out, data.y)  # Compute the loss.\n",
        "         loss.backward()  # Derive gradients.\n",
        "         optimizer.step()  # Update parameters based on gradients.\n",
        "         optimizer.zero_grad()  # Clear gradients.\n",
        "\n",
        "def test(loader):\n",
        "     model.eval()\n",
        "\n",
        "     correct = 0\n",
        "     for data in loader:  # Iterate in batches over the training/test dataset.\n",
        "         out = model(data.x, data.edge_index, data.batch)  \n",
        "         pred = out.argmax(dim=1)  # Use the class with highest probability.\n",
        "         correct += int((pred == data.y).sum())  # Check against ground-truth labels.\n",
        "     return correct / len(loader.dataset)  # Derive ratio of correct predictions.\n",
        "\n",
        "\n",
        "for epoch in range(1, 31):\n",
        "    train()\n",
        "    train_acc = test(train_loader)\n",
        "    test_acc = test(test_loader)\n",
        "    print(f'Epoch: {epoch:03d}, Train Acc: {train_acc:.4f}, Test Acc: {test_acc:.4f}')"
      ],
      "metadata": {
        "colab": {
          "base_uri": "https://localhost:8080/",
          "height": 300
        },
        "id": "uiWJZHDgsFaK",
        "outputId": "dc72182d-bb15-421c-a5cd-426ece333985"
      },
      "execution_count": 8,
      "outputs": [
        {
          "output_type": "display_data",
          "data": {
            "text/plain": [
              "<IPython.core.display.Javascript object>"
            ],
            "application/javascript": [
              "google.colab.output.setIframeHeight(0, true, {maxHeight: 300})"
            ]
          },
          "metadata": {}
        },
        {
          "output_type": "stream",
          "name": "stdout",
          "text": [
            "Epoch: 001, Train Acc: 0.6467, Test Acc: 0.7368\n",
            "Epoch: 002, Train Acc: 0.6467, Test Acc: 0.7368\n",
            "Epoch: 003, Train Acc: 0.6467, Test Acc: 0.7368\n",
            "Epoch: 004, Train Acc: 0.6467, Test Acc: 0.7368\n",
            "Epoch: 005, Train Acc: 0.6467, Test Acc: 0.7368\n",
            "Epoch: 006, Train Acc: 0.6467, Test Acc: 0.7368\n",
            "Epoch: 007, Train Acc: 0.6467, Test Acc: 0.7368\n",
            "Epoch: 008, Train Acc: 0.6467, Test Acc: 0.7368\n",
            "Epoch: 009, Train Acc: 0.6467, Test Acc: 0.7368\n",
            "Epoch: 010, Train Acc: 0.6467, Test Acc: 0.7368\n",
            "Epoch: 011, Train Acc: 0.6467, Test Acc: 0.7368\n",
            "Epoch: 012, Train Acc: 0.6467, Test Acc: 0.7368\n",
            "Epoch: 013, Train Acc: 0.6467, Test Acc: 0.7368\n",
            "Epoch: 014, Train Acc: 0.6467, Test Acc: 0.7368\n",
            "Epoch: 015, Train Acc: 0.6467, Test Acc: 0.7368\n",
            "Epoch: 016, Train Acc: 0.6467, Test Acc: 0.7368\n",
            "Epoch: 017, Train Acc: 0.6467, Test Acc: 0.7368\n",
            "Epoch: 018, Train Acc: 0.6467, Test Acc: 0.7368\n",
            "Epoch: 019, Train Acc: 0.6467, Test Acc: 0.7368\n",
            "Epoch: 020, Train Acc: 0.6467, Test Acc: 0.7368\n",
            "Epoch: 021, Train Acc: 0.6467, Test Acc: 0.7368\n",
            "Epoch: 022, Train Acc: 0.6467, Test Acc: 0.7368\n",
            "Epoch: 023, Train Acc: 0.6467, Test Acc: 0.7368\n",
            "Epoch: 024, Train Acc: 0.6467, Test Acc: 0.7368\n",
            "Epoch: 025, Train Acc: 0.6467, Test Acc: 0.7368\n",
            "Epoch: 026, Train Acc: 0.6467, Test Acc: 0.7368\n",
            "Epoch: 027, Train Acc: 0.6467, Test Acc: 0.7368\n",
            "Epoch: 028, Train Acc: 0.6467, Test Acc: 0.7368\n",
            "Epoch: 029, Train Acc: 0.6467, Test Acc: 0.7368\n",
            "Epoch: 030, Train Acc: 0.6467, Test Acc: 0.7368\n"
          ]
        }
      ]
    },
    {
      "cell_type": "code",
      "source": [
        "for data in test_loader:\n",
        "  out = model(data.x, data.edge_index, data.batch) \n",
        "  print(F.softmax(out[0], dim=0)[0] > 2) \n",
        "  pred = out.argmax(dim=1) \n",
        "  print(pred[0].item()) \n",
        "  print(len(pred))\n",
        "  break"
      ],
      "metadata": {
        "colab": {
          "base_uri": "https://localhost:8080/"
        },
        "id": "rmVXzoZ7vT2x",
        "outputId": "80fb85ef-641d-43d4-e5ae-bcc134aa62de"
      },
      "execution_count": 9,
      "outputs": [
        {
          "output_type": "stream",
          "name": "stdout",
          "text": [
            "tensor(False)\n",
            "1\n",
            "38\n"
          ]
        }
      ]
    },
    {
      "cell_type": "code",
      "source": [
        "import os.path as osp\n",
        "from re import sub\n",
        "from sklearn import neighbors\n",
        "import tqdm\n",
        "import matplotlib.pyplot as plt\n",
        "import torch\n",
        "import torch.nn.functional as F\n",
        "\n",
        "import torch_geometric.transforms as T\n",
        "from torch_geometric.datasets import TUDataset\n",
        "from torch_geometric.nn import GCNConv, GNNExplainer\n",
        "\n",
        "from torch_geometric.loader import DataLoader\n",
        "\n",
        "from torch.nn import Linear\n",
        "import torch.nn.functional as F\n",
        "from torch_geometric.nn import GCNConv\n",
        "from torch_geometric.nn import global_mean_pool\n",
        "from torch_geometric.utils import subgraph\n",
        "import numpy as np\n",
        "\n",
        "import networkx as nx\n",
        "from torch_geometric import utils\n",
        "\n",
        "def expand(starts, ends, target, max_depth=1, prev=[]):\n",
        "    node_neighbors = np.array([ends[idx] for idx, node in enumerate(starts) if node == target and ends[idx] != target])\n",
        "    prev.append(target)\n",
        "    if max_depth > 1:\n",
        "        for n in node_neighbors:\n",
        "            node_neighbors = np.concatenate((node_neighbors, expand(starts, ends, target=n, max_depth=max_depth-1, prev=prev)), axis=0)\n",
        "    indices = np.unique(node_neighbors, return_index=True)[1]\n",
        "    return np.array([node_neighbors[i] for i in sorted(indices)])\n",
        "\n",
        "\n",
        "def process_one_graph(data):\n",
        "    used = []\n",
        "    num_nodes = data.x.shape[0]\n",
        "    subgraph_sizes = [int(num_nodes/n) for n in range(2, 5)]\n",
        "    start_nodes, end_nodes = np.array(data.edge_index)\n",
        "    sub_graphs = []\n",
        "    # make a grow from each node\n",
        "    for target_idx in range(num_nodes):\n",
        "        nodes_to_keep = expand(starts=start_nodes, ends=end_nodes, target=target_idx, max_depth=3, prev=[])\n",
        "        if nodes_to_keep.shape[0] == 0:\n",
        "            continue\n",
        "        for size in subgraph_sizes:\n",
        "            # select the grows based on size\n",
        "            _subset = nodes_to_keep[:size]\n",
        "            # remove repetitive stuff\n",
        "            if set(_subset) in used:\n",
        "                continue\n",
        "            else:\n",
        "                used.append(set(_subset))\n",
        "            _subset = torch.from_numpy(np.array(_subset))\n",
        "            sub_graphs.append((target_idx, data.subgraph(subset=_subset)))\n",
        "    return sub_graphs\n",
        "\n",
        "\n",
        "\n",
        "dataset = 'MUTAG'\n",
        "path = osp.join(osp.dirname(osp.realpath(\"__file__\")), '..', 'data', 'TUDataset')\n",
        "transform = T.Compose([T.GCNNorm(), T.NormalizeFeatures()])\n",
        "dataset = TUDataset(path, dataset, transform=None)\n",
        "\n",
        "pred_list = []\n",
        "all_subgraphs = []\n",
        "for idx, data in enumerate(tqdm.tqdm(dataset)):\n",
        "    out = model(data.x, data.edge_index, data.batch)  \n",
        "    pred = out.argmax(dim=1) \n",
        "    pred_list.append(pred)\n",
        "\n",
        "    subgraphs = process_one_graph(data)\n",
        "    all_subgraphs.append(subgraphs)\n",
        "    \n",
        "\n",
        "# for target_idx, graph in tqdm.tqdm(all_subgraphs):\n",
        "#     # nx.draw_networkx(utils.to_networkx(graph, remove_self_loops=True))\n",
        "#     # plt.show()\n"
      ],
      "metadata": {
        "colab": {
          "base_uri": "https://localhost:8080/"
        },
        "id": "un3g1IfQNygP",
        "outputId": "aa914eae-99d0-4902-bccd-692244c9c56a"
      },
      "execution_count": 10,
      "outputs": [
        {
          "output_type": "stream",
          "name": "stderr",
          "text": [
            "Downloading https://www.chrsmrrs.com/graphkerneldatasets/MUTAG.zip\n",
            "Extracting /data/TUDataset/MUTAG/MUTAG.zip\n",
            "Processing...\n",
            "Done!\n",
            "100%|██████████| 188/188 [00:09<00:00, 20.72it/s]\n"
          ]
        }
      ]
    },
    {
      "cell_type": "code",
      "source": [
        "print(type(all_subgraphs))\n",
        "for data in all_subgraphs:\n",
        "  print(data[1])\n",
        "  break\n",
        "\n"
      ],
      "metadata": {
        "colab": {
          "base_uri": "https://localhost:8080/"
        },
        "id": "Ujoks28cQ85g",
        "outputId": "972003e0-5299-4cf5-83a6-a7deaa12b0f0"
      },
      "execution_count": 11,
      "outputs": [
        {
          "output_type": "stream",
          "name": "stdout",
          "text": [
            "<class 'list'>\n",
            "(0, Data(edge_index=[2, 8], x=[5, 7], edge_attr=[8, 4], y=[1]))\n"
          ]
        }
      ]
    },
    {
      "cell_type": "code",
      "source": [
        "print(type(test_dataset))\n",
        "for test_data in test_dataset:\n",
        "  print(test_data)\n",
        "  break"
      ],
      "metadata": {
        "colab": {
          "base_uri": "https://localhost:8080/"
        },
        "id": "XurrgGlwRAQL",
        "outputId": "26a6e3a0-8915-45ef-b8d5-8bf4a7873d55"
      },
      "execution_count": 12,
      "outputs": [
        {
          "output_type": "stream",
          "name": "stdout",
          "text": [
            "<class 'torch_geometric.datasets.tu_dataset.TUDataset'>\n",
            "Data(edge_index=[2, 50], x=[22, 7], edge_attr=[50, 4], y=[1])\n"
          ]
        }
      ]
    },
    {
      "cell_type": "code",
      "source": [
        "min_sufficient_explanation = [] #list of lists, each inner list correspond to one full graph in TUDataset Protein,\n",
        "#containing each full graph's MSE's\n",
        "threshold = 0.58\n",
        "for idx, data_collection in enumerate(tqdm.tqdm(all_subgraphs)):\n",
        "  sub_mse = [] #sub_mse for this collection, correspond to one original full graph\n",
        "  for data in data_collection:\n",
        "    out = model(data[1].x, data[1].edge_index, data[1].batch) \n",
        "    #use confidence \n",
        "    \n",
        "    confidence = F.softmax(out[0], dim=0)\n",
        "    pred = out.argmax(dim=1)\n",
        "    #print(confidence)\n",
        "    #print((confidence[pred.item()] >= threshold).item())\n",
        "    \n",
        "      \n",
        "    # if the subgraph's predicted label matches the original full graph's predicted, add to its min_suff_expl list\n",
        "    if torch.eq(pred, pred_list[idx]).item() and (confidence[pred.item()] >= threshold).item():\n",
        "      sub_mse.append(data)\n",
        "  \n",
        "  min_sufficient_explanation.append(sub_mse)\n",
        "\n",
        "  "
      ],
      "metadata": {
        "colab": {
          "base_uri": "https://localhost:8080/"
        },
        "id": "KPIgPYTFHrRA",
        "outputId": "3da60ef2-cb81-4ee5-b726-a62cc92fcf4a"
      },
      "execution_count": 23,
      "outputs": [
        {
          "output_type": "stream",
          "name": "stderr",
          "text": [
            "100%|██████████| 188/188 [00:13<00:00, 14.19it/s]\n"
          ]
        }
      ]
    },
    {
      "cell_type": "code",
      "source": [
        "for i in range(10):\n",
        "  print(len(min_sufficient_explanation[i]))\n",
        "  print(len(all_subgraphs[i]))\n",
        "  print(len(min_sufficient_explanation[i]) < len(all_subgraphs[i]))\n",
        "for data in all_subgraphs:\n",
        "  print(data)\n",
        "  break\n",
        "\n",
        "for data in min_sufficient_explanation:\n",
        "  print(len(data))\n",
        "  break\n",
        "\n",
        "#for example, the first three lines of outputs\n",
        "#means 35 of the 43 subgraphs of the 0-th full graph\n",
        "#are min sufficient explanations"
      ],
      "metadata": {
        "colab": {
          "base_uri": "https://localhost:8080/"
        },
        "id": "EFUl_YvyS-rx",
        "outputId": "3446a8ac-e4b2-4031-e368-dec5e3d5c11e"
      },
      "execution_count": 22,
      "outputs": [
        {
          "output_type": "stream",
          "name": "stdout",
          "text": [
            "35\n",
            "43\n",
            "True\n",
            "18\n",
            "32\n",
            "True\n",
            "21\n",
            "32\n",
            "True\n",
            "38\n",
            "44\n",
            "True\n",
            "16\n",
            "28\n",
            "True\n",
            "33\n",
            "56\n",
            "True\n",
            "30\n",
            "37\n",
            "True\n",
            "35\n",
            "46\n",
            "True\n",
            "8\n",
            "29\n",
            "True\n",
            "35\n",
            "43\n",
            "True\n",
            "[(0, Data(edge_index=[2, 14], x=[7, 7], edge_attr=[14, 4], y=[1])), (0, Data(edge_index=[2, 8], x=[5, 7], edge_attr=[8, 4], y=[1])), (0, Data(edge_index=[2, 6], x=[4, 7], edge_attr=[6, 4], y=[1])), (1, Data(edge_index=[2, 14], x=[7, 7], edge_attr=[14, 4], y=[1])), (1, Data(edge_index=[2, 8], x=[5, 7], edge_attr=[8, 4], y=[1])), (2, Data(edge_index=[2, 16], x=[8, 7], edge_attr=[16, 4], y=[1])), (2, Data(edge_index=[2, 6], x=[4, 7], edge_attr=[6, 4], y=[1])), (3, Data(edge_index=[2, 8], x=[5, 7], edge_attr=[8, 4], y=[1])), (3, Data(edge_index=[2, 2], x=[4, 7], edge_attr=[2, 4], y=[1])), (4, Data(edge_index=[2, 14], x=[8, 7], edge_attr=[14, 4], y=[1])), (4, Data(edge_index=[2, 8], x=[5, 7], edge_attr=[8, 4], y=[1])), (4, Data(edge_index=[2, 2], x=[4, 7], edge_attr=[2, 4], y=[1])), (5, Data(edge_index=[2, 6], x=[4, 7], edge_attr=[6, 4], y=[1])), (6, Data(edge_index=[2, 14], x=[8, 7], edge_attr=[14, 4], y=[1])), (6, Data(edge_index=[2, 8], x=[5, 7], edge_attr=[8, 4], y=[1])), (6, Data(edge_index=[2, 4], x=[4, 7], edge_attr=[4, 4], y=[1])), (7, Data(edge_index=[2, 16], x=[8, 7], edge_attr=[16, 4], y=[1])), (7, Data(edge_index=[2, 8], x=[5, 7], edge_attr=[8, 4], y=[1])), (7, Data(edge_index=[2, 6], x=[4, 7], edge_attr=[6, 4], y=[1])), (8, Data(edge_index=[2, 16], x=[8, 7], edge_attr=[16, 4], y=[1])), (8, Data(edge_index=[2, 8], x=[5, 7], edge_attr=[8, 4], y=[1])), (8, Data(edge_index=[2, 2], x=[4, 7], edge_attr=[2, 4], y=[1])), (9, Data(edge_index=[2, 14], x=[8, 7], edge_attr=[14, 4], y=[1])), (9, Data(edge_index=[2, 4], x=[5, 7], edge_attr=[4, 4], y=[1])), (9, Data(edge_index=[2, 2], x=[4, 7], edge_attr=[2, 4], y=[1])), (10, Data(edge_index=[2, 14], x=[8, 7], edge_attr=[14, 4], y=[1])), (10, Data(edge_index=[2, 8], x=[5, 7], edge_attr=[8, 4], y=[1])), (10, Data(edge_index=[2, 4], x=[4, 7], edge_attr=[4, 4], y=[1])), (11, Data(edge_index=[2, 16], x=[8, 7], edge_attr=[16, 4], y=[1])), (11, Data(edge_index=[2, 8], x=[5, 7], edge_attr=[8, 4], y=[1])), (11, Data(edge_index=[2, 6], x=[4, 7], edge_attr=[6, 4], y=[1])), (12, Data(edge_index=[2, 16], x=[8, 7], edge_attr=[16, 4], y=[1])), (12, Data(edge_index=[2, 8], x=[5, 7], edge_attr=[8, 4], y=[1])), (12, Data(edge_index=[2, 2], x=[4, 7], edge_attr=[2, 4], y=[1])), (13, Data(edge_index=[2, 14], x=[8, 7], edge_attr=[14, 4], y=[1])), (13, Data(edge_index=[2, 8], x=[5, 7], edge_attr=[8, 4], y=[1])), (13, Data(edge_index=[2, 4], x=[4, 7], edge_attr=[4, 4], y=[1])), (14, Data(edge_index=[2, 14], x=[8, 7], edge_attr=[14, 4], y=[1])), (14, Data(edge_index=[2, 4], x=[5, 7], edge_attr=[4, 4], y=[1])), (14, Data(edge_index=[2, 2], x=[4, 7], edge_attr=[2, 4], y=[1])), (15, Data(edge_index=[2, 10], x=[6, 7], edge_attr=[10, 4], y=[1])), (15, Data(edge_index=[2, 8], x=[5, 7], edge_attr=[8, 4], y=[1])), (15, Data(edge_index=[2, 6], x=[4, 7], edge_attr=[6, 4], y=[1]))]\n",
            "35\n"
          ]
        }
      ]
    },
    {
      "cell_type": "code",
      "source": [
        "#input: \n",
        "# pred_list: [tensor, tensor, tensor ...], len = len(TUDataset/Protein)\n",
        "#   each element is a one-element tensor \n",
        "#   representing the predicted label of one graph in TUDataset/Protein\n",
        "# all_subgraph: [[subgraph, subgraph..], [subgraph, subgraph..]...], len = len(TUDataset/Protein)\n",
        "#   each element is a list of subgraphs obtained from one graph in TUDataset/Protein\n",
        "#   each subgraph is a tuple in the form (k, Data(edge_index=[2, 24], x=[8, 0], y=[1]))\n",
        "#   where k is the index of the node that this subgraph expanded from\n",
        "#output:\n",
        "# min_sufficient_explanation: [[subgraph, subgraph,..], [subgraph, subgraph]...]\n",
        "#   len = len(TUDataset/Protein)\n",
        "#   each element is a list of subgraphs which are the MSEs\n",
        "#   each subgraph is a tuple in the form (k, Data(edge_index=[2, 24], x=[8, 0], y=[1]))\n",
        "#   where k is the index of the node that this subgraph expanded from"
      ],
      "metadata": {
        "id": "Ds8f2jRcOl1C"
      },
      "execution_count": 15,
      "outputs": []
    }
  ]
}