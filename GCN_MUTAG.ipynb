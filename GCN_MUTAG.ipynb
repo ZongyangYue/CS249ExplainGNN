{
  "cells": [
    {
      "cell_type": "code",
      "execution_count": 1,
      "metadata": {
        "colab": {
          "base_uri": "https://localhost:8080/"
        },
        "id": "yxDeLwqQq6gZ",
        "outputId": "d804e9ba-134e-4d7b-e39e-f49d6a16e678"
      },
      "outputs": [
        {
          "name": "stdout",
          "output_type": "stream",
          "text": [
            "\u001b[33mDEPRECATION: Configuring installation scheme with distutils config files is deprecated and will no longer work in the near future. If you are using a Homebrew or Linuxbrew Python, please see discussion at https://github.com/Homebrew/homebrew-core/issues/76621\u001b[0m\u001b[33m\n",
            "\u001b[0mRequirement already satisfied: torch_geometric in /usr/local/lib/python3.9/site-packages (2.0.5)\n",
            "Requirement already satisfied: scikit-learn in /usr/local/lib/python3.9/site-packages (from torch_geometric) (1.0.2)\n",
            "Requirement already satisfied: jinja2 in /usr/local/lib/python3.9/site-packages (from torch_geometric) (3.0.3)\n",
            "Requirement already satisfied: numpy in /usr/local/lib/python3.9/site-packages (from torch_geometric) (1.21.2)\n",
            "Requirement already satisfied: pyparsing in /usr/local/lib/python3.9/site-packages (from torch_geometric) (2.4.7)\n",
            "Requirement already satisfied: requests in /usr/local/lib/python3.9/site-packages (from torch_geometric) (2.27.1)\n",
            "Requirement already satisfied: tqdm in /usr/local/lib/python3.9/site-packages (from torch_geometric) (4.62.3)\n",
            "Requirement already satisfied: scipy in /usr/local/lib/python3.9/site-packages (from torch_geometric) (1.8.0)\n",
            "Requirement already satisfied: MarkupSafe>=2.0 in /usr/local/lib/python3.9/site-packages (from jinja2->torch_geometric) (2.1.0)\n",
            "Requirement already satisfied: urllib3<1.27,>=1.21.1 in /usr/local/lib/python3.9/site-packages (from requests->torch_geometric) (1.26.8)\n",
            "Requirement already satisfied: idna<4,>=2.5 in /usr/local/lib/python3.9/site-packages (from requests->torch_geometric) (3.3)\n",
            "Requirement already satisfied: certifi>=2017.4.17 in /usr/local/lib/python3.9/site-packages (from requests->torch_geometric) (2021.10.8)\n",
            "Requirement already satisfied: charset-normalizer~=2.0.0 in /usr/local/lib/python3.9/site-packages (from requests->torch_geometric) (2.0.12)\n",
            "Requirement already satisfied: threadpoolctl>=2.0.0 in /usr/local/lib/python3.9/site-packages (from scikit-learn->torch_geometric) (3.1.0)\n",
            "Requirement already satisfied: joblib>=0.11 in /usr/local/lib/python3.9/site-packages (from scikit-learn->torch_geometric) (1.1.0)\n",
            "\u001b[33mDEPRECATION: Configuring installation scheme with distutils config files is deprecated and will no longer work in the near future. If you are using a Homebrew or Linuxbrew Python, please see discussion at https://github.com/Homebrew/homebrew-core/issues/76621\u001b[0m\u001b[33m\n",
            "\u001b[0m"
          ]
        }
      ],
      "source": [
        "!pip install torch_geometric"
      ]
    },
    {
      "cell_type": "code",
      "execution_count": 2,
      "metadata": {
        "colab": {
          "base_uri": "https://localhost:8080/"
        },
        "id": "z8XgxMpyrCLt",
        "outputId": "27b51379-3d59-4df5-d46c-bf9c130dc1b0"
      },
      "outputs": [
        {
          "name": "stdout",
          "output_type": "stream",
          "text": [
            "1.10.2\n",
            "\u001b[33mDEPRECATION: Configuring installation scheme with distutils config files is deprecated and will no longer work in the near future. If you are using a Homebrew or Linuxbrew Python, please see discussion at https://github.com/Homebrew/homebrew-core/issues/76621\u001b[0m\u001b[33m\n",
            "\u001b[0m\u001b[33mDEPRECATION: Configuring installation scheme with distutils config files is deprecated and will no longer work in the near future. If you are using a Homebrew or Linuxbrew Python, please see discussion at https://github.com/Homebrew/homebrew-core/issues/76621\u001b[0m\u001b[33m\n",
            "\u001b[0m\u001b[33mDEPRECATION: Configuring installation scheme with distutils config files is deprecated and will no longer work in the near future. If you are using a Homebrew or Linuxbrew Python, please see discussion at https://github.com/Homebrew/homebrew-core/issues/76621\u001b[0m\u001b[33m\n",
            "\u001b[0m\u001b[33mDEPRECATION: Configuring installation scheme with distutils config files is deprecated and will no longer work in the near future. If you are using a Homebrew or Linuxbrew Python, please see discussion at https://github.com/Homebrew/homebrew-core/issues/76621\u001b[0m\u001b[33m\n",
            "\u001b[0m\u001b[33mDEPRECATION: Configuring installation scheme with distutils config files is deprecated and will no longer work in the near future. If you are using a Homebrew or Linuxbrew Python, please see discussion at https://github.com/Homebrew/homebrew-core/issues/76621\u001b[0m\u001b[33m\n",
            "\u001b[0m\u001b[33mDEPRECATION: Configuring installation scheme with distutils config files is deprecated and will no longer work in the near future. If you are using a Homebrew or Linuxbrew Python, please see discussion at https://github.com/Homebrew/homebrew-core/issues/76621\u001b[0m\u001b[33m\n",
            "\u001b[0m"
          ]
        }
      ],
      "source": [
        "import os\n",
        "import torch\n",
        "os.environ['TORCH'] = torch.__version__\n",
        "print(torch.__version__)\n",
        "\n",
        "!pip install -q torch-scatter -f https://data.pyg.org/whl/torch-${TORCH}.html\n",
        "!pip install -q torch-sparse -f https://data.pyg.org/whl/torch-${TORCH}.html\n",
        "!pip install -q git+https://github.com/pyg-team/pytorch_geometric.git"
      ]
    },
    {
      "cell_type": "code",
      "execution_count": 3,
      "metadata": {
        "colab": {
          "base_uri": "https://localhost:8080/"
        },
        "id": "Fm8syU3Gqhrp",
        "outputId": "4b552df7-71b7-4016-e827-f1c004266e48"
      },
      "outputs": [
        {
          "name": "stdout",
          "output_type": "stream",
          "text": [
            "MUTAG(188)\n",
            "Data(edge_index=[2, 38], x=[17, 7], edge_attr=[38, 4], y=[1])\n"
          ]
        }
      ],
      "source": [
        "import os\n",
        "import torch\n",
        "import matplotlib.pyplot as plt\n",
        "\n",
        "from torch_geometric.nn import GCNConv\n",
        "from torch_geometric.datasets import TUDataset\n",
        "from torch_geometric.transforms import NormalizeFeatures\n",
        "import torch_geometric.transforms as T\n",
        "\n",
        "transform = T.Compose([T.GCNNorm(), T.NormalizeFeatures()])\n",
        "\n",
        "dataset = TUDataset(root=\"data/MUTAG\", name=\"MUTAG\", transform=None)\n",
        "print(dataset)\n",
        "data = dataset[0]\n",
        "print(data)"
      ]
    },
    {
      "cell_type": "code",
      "execution_count": 4,
      "metadata": {
        "colab": {
          "base_uri": "https://localhost:8080/"
        },
        "id": "Cufp277lhpGi",
        "outputId": "5cb4b00b-0136-4bf9-a15f-aa774a9c896b"
      },
      "outputs": [
        {
          "name": "stdout",
          "output_type": "stream",
          "text": [
            "Number of classes: 2\n"
          ]
        }
      ],
      "source": [
        "print(f'Number of classes: {dataset.num_classes}')"
      ]
    },
    {
      "cell_type": "code",
      "execution_count": 5,
      "metadata": {
        "colab": {
          "base_uri": "https://localhost:8080/"
        },
        "id": "qMMguQWkwEeD",
        "outputId": "72acb8e5-6cb6-4c53-8455-d9e927f6f6c7"
      },
      "outputs": [
        {
          "name": "stdout",
          "output_type": "stream",
          "text": [
            "Number of training graphs: 150\n",
            "Number of test graphs: 38\n"
          ]
        }
      ],
      "source": [
        "import numpy as np\n",
        "torch.manual_seed(12345)\n",
        "dataset = dataset.shuffle()\n",
        "\n",
        "split = int(0.8 * len(dataset))\n",
        "train_dataset, test_dataset = dataset[:split], dataset[split:]\n",
        "\n",
        "print(f'Number of training graphs: {len(train_dataset)}')\n",
        "print(f'Number of test graphs: {len(test_dataset)}')"
      ]
    },
    {
      "cell_type": "code",
      "execution_count": 6,
      "metadata": {
        "colab": {
          "base_uri": "https://localhost:8080/"
        },
        "id": "LVPP02XYx4-l",
        "outputId": "e253ff5b-f6c9-4c04-e0bb-c18bea060c79"
      },
      "outputs": [
        {
          "name": "stdout",
          "output_type": "stream",
          "text": [
            "Step 1:\n",
            "=======\n",
            "Number of graphs in the current batch: 64\n",
            "DataBatch(edge_index=[2, 2636], x=[1188, 7], edge_attr=[2636, 4], y=[64], batch=[1188], ptr=[65])\n",
            "\n",
            "Step 2:\n",
            "=======\n",
            "Number of graphs in the current batch: 64\n",
            "DataBatch(edge_index=[2, 2506], x=[1139, 7], edge_attr=[2506, 4], y=[64], batch=[1139], ptr=[65])\n",
            "\n",
            "Step 3:\n",
            "=======\n",
            "Number of graphs in the current batch: 22\n",
            "DataBatch(edge_index=[2, 852], x=[387, 7], edge_attr=[852, 4], y=[22], batch=[387], ptr=[23])\n",
            "\n"
          ]
        }
      ],
      "source": [
        "from torch_geometric.loader import DataLoader\n",
        "\n",
        "train_loader = DataLoader(train_dataset, batch_size=64, shuffle=True)\n",
        "test_loader = DataLoader(test_dataset, batch_size=64, shuffle=False)\n",
        "\n",
        "for step, data in enumerate(train_loader):\n",
        "    print(f'Step {step + 1}:')\n",
        "    print('=======')\n",
        "    print(f'Number of graphs in the current batch: {data.num_graphs}')\n",
        "    print(data)\n",
        "    print()"
      ]
    },
    {
      "cell_type": "code",
      "execution_count": 7,
      "metadata": {
        "colab": {
          "base_uri": "https://localhost:8080/"
        },
        "id": "wYkcNo3fxXbd",
        "outputId": "13a8e10c-df21-4376-f465-516d6355fda0"
      },
      "outputs": [
        {
          "name": "stdout",
          "output_type": "stream",
          "text": [
            "GCN(\n",
            "  (conv1): GCNConv(7, 64)\n",
            "  (conv2): GCNConv(64, 64)\n",
            "  (conv3): GCNConv(64, 64)\n",
            "  (lin): Linear(in_features=64, out_features=2, bias=True)\n",
            ")\n"
          ]
        }
      ],
      "source": [
        "from torch.nn import Linear\n",
        "import torch.nn.functional as F\n",
        "from torch_geometric.nn import GCNConv\n",
        "from torch_geometric.nn import global_mean_pool\n",
        "\n",
        "\n",
        "class GCN(torch.nn.Module):\n",
        "    def __init__(self, hidden_channels):\n",
        "        super(GCN, self).__init__()\n",
        "        torch.manual_seed(12345)\n",
        "        self.conv1 = GCNConv(dataset.num_node_features, hidden_channels)\n",
        "        self.conv2 = GCNConv(hidden_channels, hidden_channels)\n",
        "        self.conv3 = GCNConv(hidden_channels, hidden_channels)\n",
        "        self.lin = Linear(hidden_channels, dataset.num_classes)\n",
        "\n",
        "    def forward(self, x, edge_index, batch):\n",
        "        # 1. Obtain node embeddings \n",
        "        x = self.conv1(x, edge_index)\n",
        "        x = x.relu()\n",
        "        x = self.conv2(x, edge_index)\n",
        "        x = x.relu()\n",
        "        x = self.conv3(x, edge_index)\n",
        "\n",
        "        # 2. Readout layer\n",
        "        x = global_mean_pool(x, batch)  # [batch_size, hidden_channels]\n",
        "\n",
        "        # 3. Apply a final classifier\n",
        "        x = F.dropout(x, p=0.5, training=self.training)\n",
        "        x = self.lin(x)\n",
        "        \n",
        "        return x\n",
        "\n",
        "model = GCN(hidden_channels=64)\n",
        "print(model)"
      ]
    },
    {
      "cell_type": "code",
      "execution_count": 8,
      "metadata": {
        "colab": {
          "base_uri": "https://localhost:8080/",
          "height": 300
        },
        "id": "uiWJZHDgsFaK",
        "outputId": "dc72182d-bb15-421c-a5cd-426ece333985"
      },
      "outputs": [
        {
          "data": {
            "application/javascript": "google.colab.output.setIframeHeight(0, true, {maxHeight: 300})",
            "text/plain": [
              "<IPython.core.display.Javascript object>"
            ]
          },
          "metadata": {},
          "output_type": "display_data"
        },
        {
          "name": "stdout",
          "output_type": "stream",
          "text": [
            "Epoch: 001, Train Acc: 0.6467, Test Acc: 0.7368\n",
            "Epoch: 002, Train Acc: 0.6467, Test Acc: 0.7368\n",
            "Epoch: 003, Train Acc: 0.6467, Test Acc: 0.7368\n",
            "Epoch: 004, Train Acc: 0.6467, Test Acc: 0.7368\n",
            "Epoch: 005, Train Acc: 0.6467, Test Acc: 0.7368\n",
            "Epoch: 006, Train Acc: 0.6467, Test Acc: 0.7368\n",
            "Epoch: 007, Train Acc: 0.6467, Test Acc: 0.7368\n",
            "Epoch: 008, Train Acc: 0.6467, Test Acc: 0.7368\n",
            "Epoch: 009, Train Acc: 0.6467, Test Acc: 0.7368\n",
            "Epoch: 010, Train Acc: 0.6467, Test Acc: 0.7368\n",
            "Epoch: 011, Train Acc: 0.6467, Test Acc: 0.7368\n",
            "Epoch: 012, Train Acc: 0.6467, Test Acc: 0.7368\n",
            "Epoch: 013, Train Acc: 0.6467, Test Acc: 0.7368\n",
            "Epoch: 014, Train Acc: 0.6467, Test Acc: 0.7368\n",
            "Epoch: 015, Train Acc: 0.6467, Test Acc: 0.7368\n",
            "Epoch: 016, Train Acc: 0.6467, Test Acc: 0.7368\n",
            "Epoch: 017, Train Acc: 0.6467, Test Acc: 0.7368\n",
            "Epoch: 018, Train Acc: 0.6467, Test Acc: 0.7368\n",
            "Epoch: 019, Train Acc: 0.6467, Test Acc: 0.7368\n",
            "Epoch: 020, Train Acc: 0.6467, Test Acc: 0.7368\n",
            "Epoch: 021, Train Acc: 0.6467, Test Acc: 0.7368\n",
            "Epoch: 022, Train Acc: 0.6467, Test Acc: 0.7368\n",
            "Epoch: 023, Train Acc: 0.6467, Test Acc: 0.7368\n",
            "Epoch: 024, Train Acc: 0.6467, Test Acc: 0.7368\n",
            "Epoch: 025, Train Acc: 0.6467, Test Acc: 0.7368\n",
            "Epoch: 026, Train Acc: 0.6467, Test Acc: 0.7368\n",
            "Epoch: 027, Train Acc: 0.6467, Test Acc: 0.7368\n",
            "Epoch: 028, Train Acc: 0.6467, Test Acc: 0.7368\n",
            "Epoch: 029, Train Acc: 0.6467, Test Acc: 0.7368\n",
            "Epoch: 030, Train Acc: 0.6467, Test Acc: 0.7368\n"
          ]
        }
      ],
      "source": [
        "from IPython.display import Javascript\n",
        "display(Javascript('''google.colab.output.setIframeHeight(0, true, {maxHeight: 300})'''))\n",
        "\n",
        "model = GCN(hidden_channels=64)\n",
        "# optimizer = torch.optim.Adam(model.parameters(), lr=0.01)\n",
        "optimizer = torch.optim.SGD(model.parameters(), lr=0.01)\n",
        "criterion = torch.nn.CrossEntropyLoss()\n",
        "\n",
        "def train():\n",
        "    model.train()\n",
        "\n",
        "    for data in train_loader:  # Iterate in batches over the training dataset.\n",
        "         out = model(data.x, data.edge_index, data.batch)  # Perform a single forward pass.\n",
        "         loss = criterion(out, data.y)  # Compute the loss.\n",
        "         loss.backward()  # Derive gradients.\n",
        "         optimizer.step()  # Update parameters based on gradients.\n",
        "         optimizer.zero_grad()  # Clear gradients.\n",
        "\n",
        "def test(loader):\n",
        "     model.eval()\n",
        "\n",
        "     correct = 0\n",
        "     for data in loader:  # Iterate in batches over the training/test dataset.\n",
        "         out = model(data.x, data.edge_index, data.batch)  \n",
        "         pred = out.argmax(dim=1)  # Use the class with highest probability.\n",
        "         correct += int((pred == data.y).sum())  # Check against ground-truth labels.\n",
        "     return correct / len(loader.dataset)  # Derive ratio of correct predictions.\n",
        "\n",
        "\n",
        "for epoch in range(1, 31):\n",
        "    train()\n",
        "    train_acc = test(train_loader)\n",
        "    test_acc = test(test_loader)\n",
        "    print(f'Epoch: {epoch:03d}, Train Acc: {train_acc:.4f}, Test Acc: {test_acc:.4f}')"
      ]
    },
    {
      "cell_type": "code",
      "execution_count": 9,
      "metadata": {
        "colab": {
          "base_uri": "https://localhost:8080/"
        },
        "id": "rmVXzoZ7vT2x",
        "outputId": "80fb85ef-641d-43d4-e5ae-bcc134aa62de"
      },
      "outputs": [
        {
          "name": "stdout",
          "output_type": "stream",
          "text": [
            "tensor(False)\n",
            "1\n",
            "38\n"
          ]
        }
      ],
      "source": [
        "for data in test_loader:\n",
        "  out = model(data.x, data.edge_index, data.batch) \n",
        "  print(F.softmax(out[0], dim=0)[0] > 2) \n",
        "  pred = out.argmax(dim=1) \n",
        "  print(pred[0].item()) \n",
        "  print(len(pred))\n",
        "  break"
      ]
    },
    {
      "cell_type": "code",
      "execution_count": 25,
      "metadata": {
        "colab": {
          "base_uri": "https://localhost:8080/"
        },
        "id": "un3g1IfQNygP",
        "outputId": "aa914eae-99d0-4902-bccd-692244c9c56a"
      },
      "outputs": [
        {
          "name": "stderr",
          "output_type": "stream",
          "text": [
            "100%|██████████| 188/188 [00:02<00:00, 78.63it/s]"
          ]
        },
        {
          "name": "stdout",
          "output_type": "stream",
          "text": [
            "[0.5812622308731079, 0.579557478427887, 0.5795118808746338, 0.5815139412879944, 0.5746147036552429, 0.5783131122589111, 0.581076443195343, 0.5801668167114258, 0.5779090523719788, 0.5811891555786133, 0.5812942385673523, 0.5808764100074768, 0.5801395773887634, 0.5780375599861145, 0.5814969539642334, 0.5801562666893005, 0.5776200294494629, 0.580407440662384, 0.5794845223426819, 0.5805829763412476, 0.5793904662132263, 0.5802112817764282, 0.5818279385566711, 0.582056999206543, 0.5803793668746948, 0.5763154625892639, 0.5818226933479309, 0.5794278979301453, 0.5780917406082153, 0.581822395324707, 0.5802112221717834, 0.577476441860199, 0.5766609311103821, 0.5806207060813904, 0.5804061889648438, 0.5807485580444336, 0.5812678933143616, 0.5809884667396545, 0.5790954828262329, 0.5806484818458557, 0.5794982314109802, 0.5780047178268433, 0.5814948678016663, 0.5812622308731079, 0.5774005651473999, 0.5818226933479309, 0.5801165103912354, 0.5812565088272095, 0.5783689022064209, 0.5789394378662109, 0.5806491374969482, 0.580657422542572, 0.5795948505401611, 0.5779038071632385, 0.5807493329048157, 0.5795968174934387, 0.578270673751831, 0.5808373689651489, 0.5818291306495667, 0.5777666568756104, 0.5799647569656372, 0.5774217844009399, 0.5778223872184753, 0.5790593028068542, 0.5789291262626648, 0.5802299976348877, 0.580956757068634, 0.5818226933479309, 0.5796200633049011, 0.5780959129333496, 0.5806536078453064, 0.5811296105384827, 0.5802591443061829, 0.5818068385124207, 0.579383373260498, 0.5777841806411743, 0.5802487134933472, 0.5810644030570984, 0.5796825289726257, 0.5815120935440063, 0.5774151682853699, 0.5791718363761902, 0.5802555084228516, 0.5800577402114868, 0.5818322896957397, 0.5818231701850891, 0.5802167057991028, 0.5790395736694336, 0.578108012676239, 0.5818356275558472, 0.580834150314331, 0.5814830660820007, 0.5818306803703308, 0.5815045833587646, 0.5778120160102844, 0.579117476940155, 0.5805555582046509, 0.5794958472251892, 0.5810086131095886, 0.5802350640296936, 0.5818306803703308, 0.5773475170135498, 0.5814830660820007, 0.5818356275558472, 0.5795815587043762, 0.5808663964271545, 0.5791577100753784, 0.5815079212188721, 0.5808355212211609, 0.5774551630020142, 0.5789230465888977, 0.5809990763664246, 0.5768101215362549, 0.5802407264709473, 0.5803844928741455, 0.5766738653182983, 0.5782767534255981, 0.5818226933479309, 0.5782960653305054, 0.5780349969863892, 0.5791612267494202, 0.5816865563392639, 0.5811427235603333, 0.5746975541114807, 0.5814830660820007, 0.5784076452255249, 0.5783234238624573, 0.5809990763664246, 0.5760824084281921, 0.5789461135864258, 0.5807089805603027, 0.5789653658866882, 0.5766124129295349, 0.5801165103912354, 0.5753236413002014, 0.5808627605438232, 0.5802063941955566, 0.5780065655708313, 0.5768905878067017, 0.5789469480514526, 0.5764409899711609, 0.5772009491920471, 0.5792880654335022, 0.5763060450553894, 0.5802271366119385, 0.5802220106124878, 0.5783109664916992, 0.5809990763664246, 0.5783689022064209, 0.576702892780304, 0.5779065489768982, 0.5801275372505188, 0.5809990763664246, 0.5778987407684326, 0.5773332118988037, 0.579160749912262, 0.5808517932891846, 0.5802095532417297, 0.5808517932891846, 0.5751675963401794, 0.5806491374969482, 0.5775173306465149, 0.5801165103912354, 0.580150306224823, 0.5814869999885559, 0.5806198120117188, 0.5801405906677246, 0.578774631023407, 0.5755907893180847, 0.5796424150466919, 0.5774365067481995, 0.5778017044067383, 0.5783173441886902, 0.5801319479942322, 0.5760592818260193, 0.5803844928741455, 0.5784463286399841, 0.5780919194221497, 0.5794337391853333, 0.5808396339416504, 0.5775601863861084, 0.5797652006149292, 0.5801405906677246, 0.5801536440849304, 0.5755913257598877, 0.5791593194007874, 0.5816720724105835, 0.5802554488182068]\n"
          ]
        },
        {
          "name": "stderr",
          "output_type": "stream",
          "text": [
            "\n"
          ]
        }
      ],
      "source": [
        "from re import sub\n",
        "from sklearn import neighbors\n",
        "import tqdm\n",
        "import matplotlib.pyplot as plt\n",
        "import torch\n",
        "import torch.nn.functional as F\n",
        "\n",
        "import torch_geometric.transforms as T\n",
        "from torch_geometric.datasets import TUDataset\n",
        "from torch_geometric.nn import GCNConv, GNNExplainer\n",
        "\n",
        "from torch_geometric.loader import DataLoader\n",
        "\n",
        "from torch.nn import Linear\n",
        "import torch.nn.functional as F\n",
        "from torch_geometric.nn import GCNConv\n",
        "from torch_geometric.nn import global_mean_pool\n",
        "from torch_geometric.utils import subgraph\n",
        "import numpy as np\n",
        "\n",
        "import networkx as nx\n",
        "from torch_geometric import utils\n",
        "\n",
        "def expand(starts, ends, target, max_depth=1, prev=[]):\n",
        "    node_neighbors = np.array([ends[idx] for idx, node in enumerate(starts) if node == target and ends[idx] != target])\n",
        "    prev.append(target)\n",
        "    if max_depth > 1:\n",
        "        for n in node_neighbors:\n",
        "            node_neighbors = np.concatenate((node_neighbors, expand(starts, ends, target=n, max_depth=max_depth-1, prev=prev)), axis=0)\n",
        "    indices = np.unique(node_neighbors, return_index=True)[1]\n",
        "    return np.array([node_neighbors[i] for i in sorted(indices)])\n",
        "\n",
        "\n",
        "def process_one_graph(data):\n",
        "    used = []\n",
        "    num_nodes = data.x.shape[0]\n",
        "    subgraph_sizes = [int(num_nodes/n) for n in range(2, 5)]\n",
        "    start_nodes, end_nodes = np.array(data.edge_index)\n",
        "    sub_graphs = []\n",
        "    # make a grow from each node\n",
        "    for target_idx in range(num_nodes):\n",
        "        nodes_to_keep = expand(starts=start_nodes, ends=end_nodes, target=target_idx, max_depth=3, prev=[])\n",
        "        if nodes_to_keep.shape[0] == 0:\n",
        "            continue\n",
        "        for size in subgraph_sizes:\n",
        "            # select the grows based on size\n",
        "            _subset = nodes_to_keep[:size]\n",
        "            # remove repetitive stuff\n",
        "            if set(_subset) in used:\n",
        "                continue\n",
        "            else:\n",
        "                used.append(set(_subset))\n",
        "            _subset = torch.from_numpy(np.array(_subset))\n",
        "            sub_graphs.append((target_idx, data.subgraph(subset=_subset)))\n",
        "    return sub_graphs\n",
        "\n",
        "\n",
        "\n",
        "dataset = 'MUTAG'\n",
        "path = osp.join(osp.dirname(osp.realpath(\"__file__\")), '..', 'data', 'TUDataset')\n",
        "transform = T.Compose([T.GCNNorm(), T.NormalizeFeatures()])\n",
        "dataset = TUDataset(path, dataset, transform=None)\n",
        "\n",
        "pred_list = []\n",
        "all_subgraphs = []\n",
        "confidences = []\n",
        "for idx, data in enumerate(tqdm.tqdm(dataset)):\n",
        "    out = model(data.x, data.edge_index, data.batch)  \n",
        "    out = out.softmax(dim=1)\n",
        "    pred = out.argmax(dim=1)\n",
        "    pred_list.append(pred)\n",
        "\n",
        "    subgraphs = process_one_graph(data)\n",
        "    all_subgraphs.append(subgraphs)\n",
        "    confidences.append(out[0, pred].item())\n",
        "\n",
        "\n",
        "# for target_idx, graph in tqdm.tqdm(all_subgraphs):\n",
        "#     # nx.draw_networkx(utils.to_networkx(graph, remove_self_loops=True))\n",
        "#     # plt.show()\n"
      ]
    },
    {
      "cell_type": "code",
      "execution_count": 11,
      "metadata": {
        "colab": {
          "base_uri": "https://localhost:8080/"
        },
        "id": "Ujoks28cQ85g",
        "outputId": "972003e0-5299-4cf5-83a6-a7deaa12b0f0"
      },
      "outputs": [
        {
          "name": "stdout",
          "output_type": "stream",
          "text": [
            "<class 'list'>\n",
            "(0, Data(edge_index=[2, 8], x=[5, 7], edge_attr=[8, 4], y=[1]))\n"
          ]
        }
      ],
      "source": [
        "print(type(all_subgraphs))\n",
        "for data in all_subgraphs:\n",
        "  print(data[1])\n",
        "  break\n",
        "\n"
      ]
    },
    {
      "cell_type": "code",
      "execution_count": 12,
      "metadata": {
        "colab": {
          "base_uri": "https://localhost:8080/"
        },
        "id": "XurrgGlwRAQL",
        "outputId": "26a6e3a0-8915-45ef-b8d5-8bf4a7873d55"
      },
      "outputs": [
        {
          "name": "stdout",
          "output_type": "stream",
          "text": [
            "<class 'torch_geometric.datasets.tu_dataset.TUDataset'>\n",
            "Data(edge_index=[2, 50], x=[22, 7], edge_attr=[50, 4], y=[1])\n"
          ]
        }
      ],
      "source": [
        "print(type(test_dataset))\n",
        "for test_data in test_dataset:\n",
        "  print(test_data)\n",
        "  break"
      ]
    },
    {
      "cell_type": "code",
      "execution_count": 40,
      "metadata": {
        "colab": {
          "base_uri": "https://localhost:8080/"
        },
        "id": "KPIgPYTFHrRA",
        "outputId": "3da60ef2-cb81-4ee5-b726-a62cc92fcf4a"
      },
      "outputs": [
        {
          "name": "stderr",
          "output_type": "stream",
          "text": [
            "100%|██████████| 188/188 [00:07<00:00, 26.20it/s]\n"
          ]
        }
      ],
      "source": [
        "min_sufficient_explanation = [] #list of lists, each inner list correspond to one full graph in TUDataset Protein,\n",
        "#containing each full graph's MSE's\n",
        "threshold = 0.58\n",
        "for idx, data_collection in enumerate(tqdm.tqdm(all_subgraphs)):\n",
        "  sub_mse = np.array([]) #sub_mse for this collection, correspond to one original full graph\n",
        "  sub_confidence = []\n",
        "  for data in data_collection:\n",
        "    out = model(data[1].x, data[1].edge_index, data[1].batch)\n",
        "\n",
        "    out = out.softmax(dim=1)\n",
        "    pred = out.argmax(dim=1)\n",
        "    \n",
        "      \n",
        "    # if the subgraph's predicted label matches the original full graph's predicted, add to its min_suff_expl list\n",
        "    if torch.eq(pred, pred_list[idx]).item():\n",
        "      sub_mse = np.append(sub_mse, data)\n",
        "      #sub_mse.append(data)\n",
        "      sub_confidence.append(abs((out[0, pred]).item() - confidences[idx]))\n",
        "  sort_indices = np.argsort(sub_confidence)\n",
        "  sub_mse = sub_mse[sort_indices]\n",
        "  \n",
        "  min_sufficient_explanation.append(sub_mse)\n",
        "\n",
        "  "
      ]
    },
    {
      "cell_type": "code",
      "execution_count": 41,
      "metadata": {
        "colab": {
          "base_uri": "https://localhost:8080/"
        },
        "id": "EFUl_YvyS-rx",
        "outputId": "3446a8ac-e4b2-4031-e368-dec5e3d5c11e"
      },
      "outputs": [
        {
          "name": "stdout",
          "output_type": "stream",
          "text": [
            "43\n",
            "43\n",
            "False\n",
            "32\n",
            "32\n",
            "False\n",
            "32\n",
            "32\n",
            "False\n",
            "44\n",
            "44\n",
            "False\n",
            "28\n",
            "28\n",
            "False\n",
            "56\n",
            "56\n",
            "False\n",
            "37\n",
            "37\n",
            "False\n",
            "46\n",
            "46\n",
            "False\n",
            "29\n",
            "29\n",
            "False\n",
            "43\n",
            "43\n",
            "False\n",
            "[(0, Data(edge_index=[2, 14], x=[7, 7], edge_attr=[14, 4], y=[1])), (0, Data(edge_index=[2, 8], x=[5, 7], edge_attr=[8, 4], y=[1])), (0, Data(edge_index=[2, 6], x=[4, 7], edge_attr=[6, 4], y=[1])), (1, Data(edge_index=[2, 14], x=[7, 7], edge_attr=[14, 4], y=[1])), (1, Data(edge_index=[2, 8], x=[5, 7], edge_attr=[8, 4], y=[1])), (2, Data(edge_index=[2, 16], x=[8, 7], edge_attr=[16, 4], y=[1])), (2, Data(edge_index=[2, 6], x=[4, 7], edge_attr=[6, 4], y=[1])), (3, Data(edge_index=[2, 8], x=[5, 7], edge_attr=[8, 4], y=[1])), (3, Data(edge_index=[2, 2], x=[4, 7], edge_attr=[2, 4], y=[1])), (4, Data(edge_index=[2, 14], x=[8, 7], edge_attr=[14, 4], y=[1])), (4, Data(edge_index=[2, 8], x=[5, 7], edge_attr=[8, 4], y=[1])), (4, Data(edge_index=[2, 2], x=[4, 7], edge_attr=[2, 4], y=[1])), (5, Data(edge_index=[2, 6], x=[4, 7], edge_attr=[6, 4], y=[1])), (6, Data(edge_index=[2, 14], x=[8, 7], edge_attr=[14, 4], y=[1])), (6, Data(edge_index=[2, 8], x=[5, 7], edge_attr=[8, 4], y=[1])), (6, Data(edge_index=[2, 4], x=[4, 7], edge_attr=[4, 4], y=[1])), (7, Data(edge_index=[2, 16], x=[8, 7], edge_attr=[16, 4], y=[1])), (7, Data(edge_index=[2, 8], x=[5, 7], edge_attr=[8, 4], y=[1])), (7, Data(edge_index=[2, 6], x=[4, 7], edge_attr=[6, 4], y=[1])), (8, Data(edge_index=[2, 16], x=[8, 7], edge_attr=[16, 4], y=[1])), (8, Data(edge_index=[2, 8], x=[5, 7], edge_attr=[8, 4], y=[1])), (8, Data(edge_index=[2, 2], x=[4, 7], edge_attr=[2, 4], y=[1])), (9, Data(edge_index=[2, 14], x=[8, 7], edge_attr=[14, 4], y=[1])), (9, Data(edge_index=[2, 4], x=[5, 7], edge_attr=[4, 4], y=[1])), (9, Data(edge_index=[2, 2], x=[4, 7], edge_attr=[2, 4], y=[1])), (10, Data(edge_index=[2, 14], x=[8, 7], edge_attr=[14, 4], y=[1])), (10, Data(edge_index=[2, 8], x=[5, 7], edge_attr=[8, 4], y=[1])), (10, Data(edge_index=[2, 4], x=[4, 7], edge_attr=[4, 4], y=[1])), (11, Data(edge_index=[2, 16], x=[8, 7], edge_attr=[16, 4], y=[1])), (11, Data(edge_index=[2, 8], x=[5, 7], edge_attr=[8, 4], y=[1])), (11, Data(edge_index=[2, 6], x=[4, 7], edge_attr=[6, 4], y=[1])), (12, Data(edge_index=[2, 16], x=[8, 7], edge_attr=[16, 4], y=[1])), (12, Data(edge_index=[2, 8], x=[5, 7], edge_attr=[8, 4], y=[1])), (12, Data(edge_index=[2, 2], x=[4, 7], edge_attr=[2, 4], y=[1])), (13, Data(edge_index=[2, 14], x=[8, 7], edge_attr=[14, 4], y=[1])), (13, Data(edge_index=[2, 8], x=[5, 7], edge_attr=[8, 4], y=[1])), (13, Data(edge_index=[2, 4], x=[4, 7], edge_attr=[4, 4], y=[1])), (14, Data(edge_index=[2, 14], x=[8, 7], edge_attr=[14, 4], y=[1])), (14, Data(edge_index=[2, 4], x=[5, 7], edge_attr=[4, 4], y=[1])), (14, Data(edge_index=[2, 2], x=[4, 7], edge_attr=[2, 4], y=[1])), (15, Data(edge_index=[2, 10], x=[6, 7], edge_attr=[10, 4], y=[1])), (15, Data(edge_index=[2, 8], x=[5, 7], edge_attr=[8, 4], y=[1])), (15, Data(edge_index=[2, 6], x=[4, 7], edge_attr=[6, 4], y=[1]))]\n",
            "43\n"
          ]
        }
      ],
      "source": [
        "for i in range(10):\n",
        "  print(len(min_sufficient_explanation[i]))\n",
        "  print(len(all_subgraphs[i]))\n",
        "  print(len(min_sufficient_explanation[i]) < len(all_subgraphs[i]))\n",
        "for data in all_subgraphs:\n",
        "  print(data)\n",
        "  break\n",
        "\n",
        "for data in min_sufficient_explanation:\n",
        "  print(len(data))\n",
        "  break\n",
        "\n",
        "#for example, the first three lines of outputs\n",
        "#means 35 of the 43 subgraphs of the 0-th full graph\n",
        "#are min sufficient explanations"
      ]
    },
    {
      "cell_type": "code",
      "execution_count": 15,
      "metadata": {
        "id": "Ds8f2jRcOl1C"
      },
      "outputs": [],
      "source": [
        "#input: \n",
        "# pred_list: [tensor, tensor, tensor ...], len = len(TUDataset/Protein)\n",
        "#   each element is a one-element tensor \n",
        "#   representing the predicted label of one graph in TUDataset/Protein\n",
        "# all_subgraph: [[subgraph, subgraph..], [subgraph, subgraph..]...], len = len(TUDataset/Protein)\n",
        "#   each element is a list of subgraphs obtained from one graph in TUDataset/Protein\n",
        "#   each subgraph is a tuple in the form (k, Data(edge_index=[2, 24], x=[8, 0], y=[1]))\n",
        "#   where k is the index of the node that this subgraph expanded from\n",
        "#output:\n",
        "# min_sufficient_explanation: [[subgraph, subgraph,..], [subgraph, subgraph]...]\n",
        "#   len = len(TUDataset/Protein)\n",
        "#   each element is a list of subgraphs which are the MSEs\n",
        "#   each subgraph is a tuple in the form (k, Data(edge_index=[2, 24], x=[8, 0], y=[1]))\n",
        "#   where k is the index of the node that this subgraph expanded from"
      ]
    }
  ],
  "metadata": {
    "accelerator": "GPU",
    "colab": {
      "collapsed_sections": [],
      "name": "GCN_MUTAG.ipynb",
      "provenance": []
    },
    "interpreter": {
      "hash": "aee8b7b246df8f9039afb4144a1f6fd8d2ca17a180786b69acc140d282b71a49"
    },
    "kernelspec": {
      "display_name": "Python 3.9.7 64-bit",
      "language": "python",
      "name": "python3"
    },
    "language_info": {
      "codemirror_mode": {
        "name": "ipython",
        "version": 3
      },
      "file_extension": ".py",
      "mimetype": "text/x-python",
      "name": "python",
      "nbconvert_exporter": "python",
      "pygments_lexer": "ipython3",
      "version": "3.9.7"
    }
  },
  "nbformat": 4,
  "nbformat_minor": 0
}
