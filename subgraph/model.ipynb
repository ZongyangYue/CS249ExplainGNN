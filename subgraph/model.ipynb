{
 "cells": [
  {
   "cell_type": "code",
   "execution_count": 21,
   "metadata": {},
   "outputs": [],
   "source": [
    "import os.path as osp\n",
    "import torch_geometric.transforms as T\n",
    "import torch\n",
    "from torch_geometric.datasets import TUDataset\n",
    "\n",
    "dataset = 'PROTEINS'\n",
    "path = osp.join(osp.dirname(osp.realpath(\"__file__\")), '..', 'data', 'TUDataset')\n",
    "transform = T.Compose([T.GCNNorm(), T.NormalizeFeatures()])\n",
    "dataset = TUDataset(path, dataset, transform=transform)\n",
    "data = dataset[0]"
   ]
  },
  {
   "cell_type": "code",
   "execution_count": 22,
   "metadata": {},
   "outputs": [
    {
     "name": "stdout",
     "output_type": "stream",
     "text": [
      "Number of training graphs: 800\n",
      "Number of test graphs: 313\n"
     ]
    }
   ],
   "source": [
    "torch.manual_seed(12345)\n",
    "dataset = dataset.shuffle()\n",
    "\n",
    "train_dataset = dataset[:800]\n",
    "test_dataset = dataset[800:]\n",
    "\n",
    "print(f'Number of training graphs: {len(train_dataset)}')\n",
    "print(f'Number of test graphs: {len(test_dataset)}')"
   ]
  },
  {
   "cell_type": "code",
   "execution_count": 23,
   "metadata": {},
   "outputs": [],
   "source": [
    "from torch_geometric.loader import DataLoader\n",
    "\n",
    "train_loader = DataLoader(train_dataset, batch_size=64, shuffle=True)\n",
    "test_loader = DataLoader(test_dataset, batch_size=64, shuffle=False)"
   ]
  },
  {
   "cell_type": "code",
   "execution_count": 24,
   "metadata": {},
   "outputs": [],
   "source": [
    "from torch.nn import Linear\n",
    "import torch.nn.functional as F\n",
    "from torch_geometric.nn import GCNConv\n",
    "from torch_geometric.nn import global_mean_pool\n",
    "\n",
    "\n",
    "class GCN(torch.nn.Module):\n",
    "    def __init__(self, hidden_channels):\n",
    "        super(GCN, self).__init__()\n",
    "        torch.manual_seed(12345)\n",
    "        self.conv1 = GCNConv(dataset.num_node_features, hidden_channels)\n",
    "        self.conv2 = GCNConv(hidden_channels, hidden_channels)\n",
    "        self.lin = Linear(hidden_channels, dataset.num_classes)\n",
    "\n",
    "    def forward(self, x, edge_index, batch):\n",
    "        # 1. Obtain node embeddings \n",
    "        x = self.conv1(x, edge_index)\n",
    "        x = x.relu()\n",
    "        x = self.conv2(x, edge_index)\n",
    "\n",
    "        # 2. Readout layer\n",
    "        x = global_mean_pool(x, batch)  # [batch_size, hidden_channels]\n",
    "\n",
    "        # 3. Apply a final classifier\n",
    "        x = F.dropout(x, p=0.5, training=self.training)\n",
    "        x = self.lin(x)\n",
    "        \n",
    "        return x\n",
    "\n",
    "model = GCN(hidden_channels=64)"
   ]
  },
  {
   "cell_type": "code",
   "execution_count": 25,
   "metadata": {},
   "outputs": [
    {
     "name": "stdout",
     "output_type": "stream",
     "text": [
      "Epoch: 001, Train Acc: 0.6188, Test Acc: 0.6038\n",
      "Epoch: 002, Train Acc: 0.6587, Test Acc: 0.6102\n",
      "Epoch: 003, Train Acc: 0.6150, Test Acc: 0.5974\n",
      "Epoch: 004, Train Acc: 0.6600, Test Acc: 0.6198\n",
      "Epoch: 005, Train Acc: 0.6525, Test Acc: 0.6390\n",
      "Epoch: 006, Train Acc: 0.6963, Test Acc: 0.6805\n",
      "Epoch: 007, Train Acc: 0.6913, Test Acc: 0.6837\n",
      "Epoch: 008, Train Acc: 0.6700, Test Acc: 0.6518\n",
      "Epoch: 009, Train Acc: 0.6937, Test Acc: 0.6645\n",
      "Epoch: 010, Train Acc: 0.6400, Test Acc: 0.6358\n",
      "Epoch: 011, Train Acc: 0.6925, Test Acc: 0.6869\n",
      "Epoch: 012, Train Acc: 0.6963, Test Acc: 0.6805\n",
      "Epoch: 013, Train Acc: 0.6987, Test Acc: 0.6709\n",
      "Epoch: 014, Train Acc: 0.6925, Test Acc: 0.6837\n",
      "Epoch: 015, Train Acc: 0.6975, Test Acc: 0.6773\n",
      "Epoch: 016, Train Acc: 0.7000, Test Acc: 0.6901\n",
      "Epoch: 017, Train Acc: 0.6863, Test Acc: 0.6581\n",
      "Epoch: 018, Train Acc: 0.6925, Test Acc: 0.6709\n",
      "Epoch: 019, Train Acc: 0.7013, Test Acc: 0.6933\n"
     ]
    }
   ],
   "source": [
    "optimizer = torch.optim.Adam(model.parameters(), lr=0.01)\n",
    "criterion = torch.nn.CrossEntropyLoss()\n",
    "\n",
    "def train():\n",
    "    model.train()\n",
    "\n",
    "    for data in train_loader:  # Iterate in batches over the training dataset.\n",
    "         out = model(data.x, data.edge_index, data.batch)  # Perform a single forward pass.\n",
    "         loss = criterion(out, data.y)  # Compute the loss.\n",
    "         loss.backward()  # Derive gradients.\n",
    "         optimizer.step()  # Update parameters based on gradients.\n",
    "         optimizer.zero_grad()  # Clear gradients.\n",
    "\n",
    "def test(loader):\n",
    "     model.eval()\n",
    "\n",
    "     correct = 0\n",
    "     for data in loader:  # Iterate in batches over the training/test dataset.\n",
    "         out = model(data.x, data.edge_index, data.batch)  \n",
    "         pred = out.argmax(dim=1)  # Use the class with highest probability.\n",
    "         correct += int((pred == data.y).sum())  # Check against ground-truth labels.\n",
    "     return correct / len(loader.dataset)  # Derive ratio of correct predictions.\n",
    "\n",
    "\n",
    "for epoch in range(1, 20):\n",
    "    train()\n",
    "    train_acc = test(train_loader)\n",
    "    test_acc = test(test_loader)\n",
    "print(f'Epoch: {epoch:03d}, Train Acc: {train_acc:.4f}, Test Acc: {test_acc:.4f}')"
   ]
  }
 ],
 "metadata": {
  "interpreter": {
   "hash": "ee9bcca9ed5e6d7a3eca33980a9be655eb25c7c82992aecdd8b3051d74c27db2"
  },
  "kernelspec": {
   "display_name": "Python 3.9.7 ('torch')",
   "language": "python",
   "name": "python3"
  },
  "language_info": {
   "codemirror_mode": {
    "name": "ipython",
    "version": 3
   },
   "file_extension": ".py",
   "mimetype": "text/x-python",
   "name": "python",
   "nbconvert_exporter": "python",
   "pygments_lexer": "ipython3",
   "version": "3.9.7"
  },
  "orig_nbformat": 4
 },
 "nbformat": 4,
 "nbformat_minor": 2
}
