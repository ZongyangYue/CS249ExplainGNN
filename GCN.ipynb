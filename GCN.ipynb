{
  "nbformat": 4,
  "nbformat_minor": 0,
  "metadata": {
    "colab": {
      "name": "GCN.ipynb",
      "provenance": [],
      "collapsed_sections": []
    },
    "kernelspec": {
      "name": "python3",
      "display_name": "Python 3"
    },
    "language_info": {
      "name": "python"
    },
    "accelerator": "GPU"
  },
  "cells": [
    {
      "cell_type": "code",
      "source": [
        "!pip install torch_geometric"
      ],
      "metadata": {
        "colab": {
          "base_uri": "https://localhost:8080/"
        },
        "id": "yxDeLwqQq6gZ",
        "outputId": "a1eaebe2-5352-416e-c6e5-3a00054e7449"
      },
      "execution_count": null,
      "outputs": [
        {
          "output_type": "stream",
          "name": "stdout",
          "text": [
            "Looking in indexes: https://pypi.org/simple, https://us-python.pkg.dev/colab-wheels/public/simple/\n",
            "Collecting torch_geometric\n",
            "  Downloading torch_geometric-2.0.4.tar.gz (407 kB)\n",
            "\u001b[K     |████████████████████████████████| 407 kB 13.5 MB/s \n",
            "\u001b[?25hRequirement already satisfied: tqdm in /usr/local/lib/python3.7/dist-packages (from torch_geometric) (4.64.0)\n",
            "Requirement already satisfied: numpy in /usr/local/lib/python3.7/dist-packages (from torch_geometric) (1.21.6)\n",
            "Requirement already satisfied: scipy in /usr/local/lib/python3.7/dist-packages (from torch_geometric) (1.4.1)\n",
            "Requirement already satisfied: pandas in /usr/local/lib/python3.7/dist-packages (from torch_geometric) (1.3.5)\n",
            "Requirement already satisfied: jinja2 in /usr/local/lib/python3.7/dist-packages (from torch_geometric) (2.11.3)\n",
            "Requirement already satisfied: requests in /usr/local/lib/python3.7/dist-packages (from torch_geometric) (2.23.0)\n",
            "Requirement already satisfied: pyparsing in /usr/local/lib/python3.7/dist-packages (from torch_geometric) (3.0.9)\n",
            "Requirement already satisfied: scikit-learn in /usr/local/lib/python3.7/dist-packages (from torch_geometric) (1.0.2)\n",
            "Requirement already satisfied: MarkupSafe>=0.23 in /usr/local/lib/python3.7/dist-packages (from jinja2->torch_geometric) (2.0.1)\n",
            "Requirement already satisfied: python-dateutil>=2.7.3 in /usr/local/lib/python3.7/dist-packages (from pandas->torch_geometric) (2.8.2)\n",
            "Requirement already satisfied: pytz>=2017.3 in /usr/local/lib/python3.7/dist-packages (from pandas->torch_geometric) (2022.1)\n",
            "Requirement already satisfied: six>=1.5 in /usr/local/lib/python3.7/dist-packages (from python-dateutil>=2.7.3->pandas->torch_geometric) (1.15.0)\n",
            "Requirement already satisfied: certifi>=2017.4.17 in /usr/local/lib/python3.7/dist-packages (from requests->torch_geometric) (2022.5.18.1)\n",
            "Requirement already satisfied: idna<3,>=2.5 in /usr/local/lib/python3.7/dist-packages (from requests->torch_geometric) (2.10)\n",
            "Requirement already satisfied: urllib3!=1.25.0,!=1.25.1,<1.26,>=1.21.1 in /usr/local/lib/python3.7/dist-packages (from requests->torch_geometric) (1.24.3)\n",
            "Requirement already satisfied: chardet<4,>=3.0.2 in /usr/local/lib/python3.7/dist-packages (from requests->torch_geometric) (3.0.4)\n",
            "Requirement already satisfied: joblib>=0.11 in /usr/local/lib/python3.7/dist-packages (from scikit-learn->torch_geometric) (1.1.0)\n",
            "Requirement already satisfied: threadpoolctl>=2.0.0 in /usr/local/lib/python3.7/dist-packages (from scikit-learn->torch_geometric) (3.1.0)\n",
            "Building wheels for collected packages: torch-geometric\n",
            "  Building wheel for torch-geometric (setup.py) ... \u001b[?25l\u001b[?25hdone\n",
            "  Created wheel for torch-geometric: filename=torch_geometric-2.0.4-py3-none-any.whl size=616603 sha256=9788bc8f59e690a73828203d86990e868fe25cbc435df0ab1455a056c6572f82\n",
            "  Stored in directory: /root/.cache/pip/wheels/18/a6/a4/ca18c3051fcead866fe7b85700ee2240d883562a1bc70ce421\n",
            "Successfully built torch-geometric\n",
            "Installing collected packages: torch-geometric\n",
            "Successfully installed torch-geometric-2.0.4\n"
          ]
        }
      ]
    },
    {
      "cell_type": "code",
      "source": [
        "import os\n",
        "import torch\n",
        "os.environ['TORCH'] = torch.__version__\n",
        "print(torch.__version__)\n",
        "\n",
        "!pip install -q torch-scatter -f https://data.pyg.org/whl/torch-${TORCH}.html\n",
        "!pip install -q torch-sparse -f https://data.pyg.org/whl/torch-${TORCH}.html\n",
        "!pip install -q git+https://github.com/pyg-team/pytorch_geometric.git"
      ],
      "metadata": {
        "colab": {
          "base_uri": "https://localhost:8080/"
        },
        "id": "z8XgxMpyrCLt",
        "outputId": "0eb79235-4ac6-41c2-9017-72bd7d5d8603"
      },
      "execution_count": null,
      "outputs": [
        {
          "output_type": "stream",
          "name": "stdout",
          "text": [
            "1.11.0+cu113\n",
            "\u001b[K     |████████████████████████████████| 7.9 MB 17.4 MB/s \n",
            "\u001b[K     |████████████████████████████████| 3.5 MB 18.2 MB/s \n",
            "\u001b[?25h  Building wheel for torch-geometric (setup.py) ... \u001b[?25l\u001b[?25hdone\n"
          ]
        }
      ]
    },
    {
      "cell_type": "code",
      "execution_count": null,
      "metadata": {
        "colab": {
          "base_uri": "https://localhost:8080/"
        },
        "id": "Fm8syU3Gqhrp",
        "outputId": "729af74c-7847-4e09-d224-87c8070a1343"
      },
      "outputs": [
        {
          "output_type": "stream",
          "name": "stderr",
          "text": [
            "Downloading https://www.chrsmrrs.com/graphkerneldatasets/PROTEINS.zip\n",
            "Extracting data/Proteins/PROTEINS/PROTEINS.zip\n",
            "Processing...\n"
          ]
        },
        {
          "output_type": "stream",
          "name": "stdout",
          "text": [
            "PROTEINS(1113)\n",
            "Data(edge_index=[2, 162], x=[42, 0], y=[1])\n"
          ]
        },
        {
          "output_type": "stream",
          "name": "stderr",
          "text": [
            "Done!\n"
          ]
        }
      ],
      "source": [
        "import os\n",
        "import torch\n",
        "import matplotlib.pyplot as plt\n",
        "\n",
        "from torch_geometric.nn import GCNConv\n",
        "from torch_geometric.datasets import TUDataset\n",
        "from torch_geometric.transforms import NormalizeFeatures\n",
        "import torch_geometric.transforms as T\n",
        "\n",
        "transform = T.Compose([T.GCNNorm(), T.NormalizeFeatures()])\n",
        "\n",
        "dataset = TUDataset(root=\"data/Proteins\", name=\"PROTEINS\", transform=None)\n",
        "print(dataset)\n",
        "data = dataset[0]\n",
        "print(data)"
      ]
    },
    {
      "cell_type": "code",
      "source": [
        "import numpy as np\n",
        "torch.manual_seed(12345)\n",
        "dataset = dataset.shuffle()\n",
        "\n",
        "split = int(0.8 * len(dataset))\n",
        "train_dataset, test_dataset = dataset[:split], dataset[split:]\n",
        "\n",
        "print(f'Number of training graphs: {len(train_dataset)}')\n",
        "print(f'Number of test graphs: {len(test_dataset)}')"
      ],
      "metadata": {
        "colab": {
          "base_uri": "https://localhost:8080/"
        },
        "id": "qMMguQWkwEeD",
        "outputId": "d5bdd04f-49d0-4eef-fb02-e75e464dd1b5"
      },
      "execution_count": null,
      "outputs": [
        {
          "output_type": "stream",
          "name": "stdout",
          "text": [
            "Number of training graphs: 890\n",
            "Number of test graphs: 223\n"
          ]
        }
      ]
    },
    {
      "cell_type": "code",
      "source": [
        "from torch_geometric.loader import DataLoader\n",
        "\n",
        "train_loader = DataLoader(train_dataset, batch_size=64, shuffle=True)\n",
        "test_loader = DataLoader(test_dataset, batch_size=64, shuffle=False)\n",
        "\n",
        "for step, data in enumerate(train_loader):\n",
        "    print(f'Step {step + 1}:')\n",
        "    print('=======')\n",
        "    print(f'Number of graphs in the current batch: {data.num_graphs}')\n",
        "    print(data)\n",
        "    print()"
      ],
      "metadata": {
        "colab": {
          "base_uri": "https://localhost:8080/"
        },
        "id": "LVPP02XYx4-l",
        "outputId": "6c25edfb-3879-4714-f473-7e605118bf60"
      },
      "execution_count": null,
      "outputs": [
        {
          "output_type": "stream",
          "name": "stdout",
          "text": [
            "Step 1:\n",
            "=======\n",
            "Number of graphs in the current batch: 64\n",
            "DataBatch(edge_index=[2, 9268], x=[2464, 0], y=[64], batch=[2464], ptr=[65])\n",
            "\n",
            "Step 2:\n",
            "=======\n",
            "Number of graphs in the current batch: 64\n",
            "DataBatch(edge_index=[2, 10700], x=[2919, 0], y=[64], batch=[2919], ptr=[65])\n",
            "\n",
            "Step 3:\n",
            "=======\n",
            "Number of graphs in the current batch: 64\n",
            "DataBatch(edge_index=[2, 10964], x=[3004, 0], y=[64], batch=[3004], ptr=[65])\n",
            "\n",
            "Step 4:\n",
            "=======\n",
            "Number of graphs in the current batch: 64\n",
            "DataBatch(edge_index=[2, 11064], x=[3063, 0], y=[64], batch=[3063], ptr=[65])\n",
            "\n",
            "Step 5:\n",
            "=======\n",
            "Number of graphs in the current batch: 64\n",
            "DataBatch(edge_index=[2, 9094], x=[2395, 0], y=[64], batch=[2395], ptr=[65])\n",
            "\n",
            "Step 6:\n",
            "=======\n",
            "Number of graphs in the current batch: 64\n",
            "DataBatch(edge_index=[2, 10592], x=[2732, 0], y=[64], batch=[2732], ptr=[65])\n",
            "\n",
            "Step 7:\n",
            "=======\n",
            "Number of graphs in the current batch: 64\n",
            "DataBatch(edge_index=[2, 8866], x=[2326, 0], y=[64], batch=[2326], ptr=[65])\n",
            "\n",
            "Step 8:\n",
            "=======\n",
            "Number of graphs in the current batch: 64\n",
            "DataBatch(edge_index=[2, 9324], x=[2478, 0], y=[64], batch=[2478], ptr=[65])\n",
            "\n",
            "Step 9:\n",
            "=======\n",
            "Number of graphs in the current batch: 64\n",
            "DataBatch(edge_index=[2, 8290], x=[2258, 0], y=[64], batch=[2258], ptr=[65])\n",
            "\n",
            "Step 10:\n",
            "=======\n",
            "Number of graphs in the current batch: 64\n",
            "DataBatch(edge_index=[2, 9342], x=[2473, 0], y=[64], batch=[2473], ptr=[65])\n",
            "\n",
            "Step 11:\n",
            "=======\n",
            "Number of graphs in the current batch: 64\n",
            "DataBatch(edge_index=[2, 8820], x=[2411, 0], y=[64], batch=[2411], ptr=[65])\n",
            "\n",
            "Step 12:\n",
            "=======\n",
            "Number of graphs in the current batch: 64\n",
            "DataBatch(edge_index=[2, 9038], x=[2431, 0], y=[64], batch=[2431], ptr=[65])\n",
            "\n",
            "Step 13:\n",
            "=======\n",
            "Number of graphs in the current batch: 64\n",
            "DataBatch(edge_index=[2, 8106], x=[2179, 0], y=[64], batch=[2179], ptr=[65])\n",
            "\n",
            "Step 14:\n",
            "=======\n",
            "Number of graphs in the current batch: 58\n",
            "DataBatch(edge_index=[2, 8058], x=[2211, 0], y=[58], batch=[2211], ptr=[59])\n",
            "\n"
          ]
        }
      ]
    },
    {
      "cell_type": "code",
      "source": [
        "from torch.nn import Linear\n",
        "import torch.nn.functional as F\n",
        "from torch_geometric.nn import GCNConv\n",
        "from torch_geometric.nn import global_mean_pool\n",
        "\n",
        "\n",
        "class GCN(torch.nn.Module):\n",
        "    def __init__(self, hidden_channels):\n",
        "        super(GCN, self).__init__()\n",
        "        torch.manual_seed(12345)\n",
        "        self.conv1 = GCNConv(dataset.num_node_features, hidden_channels)\n",
        "        self.conv2 = GCNConv(hidden_channels, hidden_channels)\n",
        "        self.conv3 = GCNConv(hidden_channels, hidden_channels)\n",
        "        self.lin = Linear(hidden_channels, dataset.num_classes)\n",
        "\n",
        "    def forward(self, x, edge_index, batch):\n",
        "        # 1. Obtain node embeddings \n",
        "        x = self.conv1(x, edge_index)\n",
        "        x = x.relu()\n",
        "        x = self.conv2(x, edge_index)\n",
        "        x = x.relu()\n",
        "        x = self.conv3(x, edge_index)\n",
        "\n",
        "        # 2. Readout layer\n",
        "        x = global_mean_pool(x, batch)  # [batch_size, hidden_channels]\n",
        "\n",
        "        # 3. Apply a final classifier\n",
        "        x = F.dropout(x, p=0.5, training=self.training)\n",
        "        x = self.lin(x)\n",
        "        \n",
        "        return x\n",
        "\n",
        "model = GCN(hidden_channels=64)\n",
        "print(model)"
      ],
      "metadata": {
        "colab": {
          "base_uri": "https://localhost:8080/"
        },
        "id": "wYkcNo3fxXbd",
        "outputId": "9abc2657-5e46-4a0c-986f-487483ce7b4b"
      },
      "execution_count": null,
      "outputs": [
        {
          "output_type": "stream",
          "name": "stdout",
          "text": [
            "GCN(\n",
            "  (conv1): GCNConv(0, 64)\n",
            "  (conv2): GCNConv(64, 64)\n",
            "  (conv3): GCNConv(64, 64)\n",
            "  (lin): Linear(in_features=64, out_features=2, bias=True)\n",
            ")\n"
          ]
        }
      ]
    },
    {
      "cell_type": "code",
      "source": [
        "from IPython.display import Javascript\n",
        "display(Javascript('''google.colab.output.setIframeHeight(0, true, {maxHeight: 300})'''))\n",
        "\n",
        "model = GCN(hidden_channels=64)\n",
        "# optimizer = torch.optim.Adam(model.parameters(), lr=0.01)\n",
        "optimizer = torch.optim.SGD(model.parameters(), lr=0.01)\n",
        "criterion = torch.nn.CrossEntropyLoss()\n",
        "\n",
        "def train():\n",
        "    model.train()\n",
        "\n",
        "    for data in train_loader:  # Iterate in batches over the training dataset.\n",
        "         out = model(data.x, data.edge_index, data.batch)  # Perform a single forward pass.\n",
        "         loss = criterion(out, data.y)  # Compute the loss.\n",
        "         loss.backward()  # Derive gradients.\n",
        "         optimizer.step()  # Update parameters based on gradients.\n",
        "         optimizer.zero_grad()  # Clear gradients.\n",
        "\n",
        "def test(loader):\n",
        "     model.eval()\n",
        "\n",
        "     correct = 0\n",
        "     for data in loader:  # Iterate in batches over the training/test dataset.\n",
        "         out = model(data.x, data.edge_index, data.batch)  \n",
        "         pred = out.argmax(dim=1)  # Use the class with highest probability.\n",
        "         correct += int((pred == data.y).sum())  # Check against ground-truth labels.\n",
        "     return correct / len(loader.dataset)  # Derive ratio of correct predictions.\n",
        "\n",
        "\n",
        "for epoch in range(1, 171):\n",
        "    train()\n",
        "    train_acc = test(train_loader)\n",
        "    test_acc = test(test_loader)\n",
        "    print(f'Epoch: {epoch:03d}, Train Acc: {train_acc:.4f}, Test Acc: {test_acc:.4f}')"
      ],
      "metadata": {
        "colab": {
          "base_uri": "https://localhost:8080/",
          "height": 300
        },
        "id": "uiWJZHDgsFaK",
        "outputId": "814c92f6-6ab7-4d33-df99-50fe80df40e5"
      },
      "execution_count": null,
      "outputs": [
        {
          "output_type": "display_data",
          "data": {
            "text/plain": [
              "<IPython.core.display.Javascript object>"
            ],
            "application/javascript": [
              "google.colab.output.setIframeHeight(0, true, {maxHeight: 300})"
            ]
          },
          "metadata": {}
        },
        {
          "output_type": "stream",
          "name": "stdout",
          "text": [
            "Epoch: 001, Train Acc: 0.4011, Test Acc: 0.4170\n",
            "Epoch: 002, Train Acc: 0.4011, Test Acc: 0.4170\n",
            "Epoch: 003, Train Acc: 0.4011, Test Acc: 0.4170\n",
            "Epoch: 004, Train Acc: 0.5989, Test Acc: 0.5830\n",
            "Epoch: 005, Train Acc: 0.5989, Test Acc: 0.5830\n",
            "Epoch: 006, Train Acc: 0.5989, Test Acc: 0.5830\n",
            "Epoch: 007, Train Acc: 0.5989, Test Acc: 0.5830\n",
            "Epoch: 008, Train Acc: 0.5989, Test Acc: 0.5830\n",
            "Epoch: 009, Train Acc: 0.5989, Test Acc: 0.5830\n",
            "Epoch: 010, Train Acc: 0.5989, Test Acc: 0.5830\n",
            "Epoch: 011, Train Acc: 0.5989, Test Acc: 0.5830\n",
            "Epoch: 012, Train Acc: 0.5989, Test Acc: 0.5830\n",
            "Epoch: 013, Train Acc: 0.5989, Test Acc: 0.5830\n",
            "Epoch: 014, Train Acc: 0.5989, Test Acc: 0.5830\n",
            "Epoch: 015, Train Acc: 0.5989, Test Acc: 0.5830\n",
            "Epoch: 016, Train Acc: 0.5989, Test Acc: 0.5830\n",
            "Epoch: 017, Train Acc: 0.5989, Test Acc: 0.5830\n",
            "Epoch: 018, Train Acc: 0.5989, Test Acc: 0.5830\n",
            "Epoch: 019, Train Acc: 0.5989, Test Acc: 0.5830\n",
            "Epoch: 020, Train Acc: 0.5989, Test Acc: 0.5830\n",
            "Epoch: 021, Train Acc: 0.5989, Test Acc: 0.5830\n",
            "Epoch: 022, Train Acc: 0.5989, Test Acc: 0.5830\n",
            "Epoch: 023, Train Acc: 0.5989, Test Acc: 0.5830\n",
            "Epoch: 024, Train Acc: 0.5989, Test Acc: 0.5830\n",
            "Epoch: 025, Train Acc: 0.5989, Test Acc: 0.5830\n",
            "Epoch: 026, Train Acc: 0.5989, Test Acc: 0.5830\n",
            "Epoch: 027, Train Acc: 0.5989, Test Acc: 0.5830\n",
            "Epoch: 028, Train Acc: 0.5989, Test Acc: 0.5830\n",
            "Epoch: 029, Train Acc: 0.5989, Test Acc: 0.5830\n",
            "Epoch: 030, Train Acc: 0.5989, Test Acc: 0.5830\n",
            "Epoch: 031, Train Acc: 0.5989, Test Acc: 0.5830\n",
            "Epoch: 032, Train Acc: 0.5989, Test Acc: 0.5830\n",
            "Epoch: 033, Train Acc: 0.5989, Test Acc: 0.5830\n",
            "Epoch: 034, Train Acc: 0.5989, Test Acc: 0.5830\n",
            "Epoch: 035, Train Acc: 0.5989, Test Acc: 0.5830\n",
            "Epoch: 036, Train Acc: 0.5989, Test Acc: 0.5830\n",
            "Epoch: 037, Train Acc: 0.5989, Test Acc: 0.5830\n",
            "Epoch: 038, Train Acc: 0.5989, Test Acc: 0.5830\n",
            "Epoch: 039, Train Acc: 0.5989, Test Acc: 0.5830\n",
            "Epoch: 040, Train Acc: 0.5989, Test Acc: 0.5830\n",
            "Epoch: 041, Train Acc: 0.5989, Test Acc: 0.5830\n",
            "Epoch: 042, Train Acc: 0.5989, Test Acc: 0.5830\n",
            "Epoch: 043, Train Acc: 0.5989, Test Acc: 0.5830\n",
            "Epoch: 044, Train Acc: 0.5989, Test Acc: 0.5830\n",
            "Epoch: 045, Train Acc: 0.5989, Test Acc: 0.5830\n",
            "Epoch: 046, Train Acc: 0.5989, Test Acc: 0.5830\n",
            "Epoch: 047, Train Acc: 0.5989, Test Acc: 0.5830\n",
            "Epoch: 048, Train Acc: 0.5989, Test Acc: 0.5830\n",
            "Epoch: 049, Train Acc: 0.5989, Test Acc: 0.5830\n",
            "Epoch: 050, Train Acc: 0.5989, Test Acc: 0.5830\n",
            "Epoch: 051, Train Acc: 0.5989, Test Acc: 0.5830\n",
            "Epoch: 052, Train Acc: 0.5989, Test Acc: 0.5830\n",
            "Epoch: 053, Train Acc: 0.5989, Test Acc: 0.5830\n",
            "Epoch: 054, Train Acc: 0.5989, Test Acc: 0.5830\n",
            "Epoch: 055, Train Acc: 0.5989, Test Acc: 0.5830\n",
            "Epoch: 056, Train Acc: 0.5989, Test Acc: 0.5830\n",
            "Epoch: 057, Train Acc: 0.5989, Test Acc: 0.5830\n",
            "Epoch: 058, Train Acc: 0.5989, Test Acc: 0.5830\n",
            "Epoch: 059, Train Acc: 0.5989, Test Acc: 0.5830\n",
            "Epoch: 060, Train Acc: 0.5989, Test Acc: 0.5830\n",
            "Epoch: 061, Train Acc: 0.5989, Test Acc: 0.5830\n",
            "Epoch: 062, Train Acc: 0.5989, Test Acc: 0.5830\n",
            "Epoch: 063, Train Acc: 0.5989, Test Acc: 0.5830\n",
            "Epoch: 064, Train Acc: 0.5989, Test Acc: 0.5830\n",
            "Epoch: 065, Train Acc: 0.5989, Test Acc: 0.5830\n",
            "Epoch: 066, Train Acc: 0.5989, Test Acc: 0.5830\n",
            "Epoch: 067, Train Acc: 0.5989, Test Acc: 0.5830\n",
            "Epoch: 068, Train Acc: 0.5989, Test Acc: 0.5830\n",
            "Epoch: 069, Train Acc: 0.5989, Test Acc: 0.5830\n",
            "Epoch: 070, Train Acc: 0.5989, Test Acc: 0.5830\n",
            "Epoch: 071, Train Acc: 0.5989, Test Acc: 0.5830\n",
            "Epoch: 072, Train Acc: 0.5989, Test Acc: 0.5830\n",
            "Epoch: 073, Train Acc: 0.5989, Test Acc: 0.5830\n",
            "Epoch: 074, Train Acc: 0.5989, Test Acc: 0.5830\n",
            "Epoch: 075, Train Acc: 0.5989, Test Acc: 0.5830\n",
            "Epoch: 076, Train Acc: 0.5989, Test Acc: 0.5830\n",
            "Epoch: 077, Train Acc: 0.5989, Test Acc: 0.5830\n",
            "Epoch: 078, Train Acc: 0.5989, Test Acc: 0.5830\n",
            "Epoch: 079, Train Acc: 0.5989, Test Acc: 0.5830\n",
            "Epoch: 080, Train Acc: 0.5989, Test Acc: 0.5830\n",
            "Epoch: 081, Train Acc: 0.5989, Test Acc: 0.5830\n",
            "Epoch: 082, Train Acc: 0.5989, Test Acc: 0.5830\n",
            "Epoch: 083, Train Acc: 0.5989, Test Acc: 0.5830\n",
            "Epoch: 084, Train Acc: 0.5989, Test Acc: 0.5830\n",
            "Epoch: 085, Train Acc: 0.5989, Test Acc: 0.5830\n",
            "Epoch: 086, Train Acc: 0.5989, Test Acc: 0.5830\n",
            "Epoch: 087, Train Acc: 0.5989, Test Acc: 0.5830\n",
            "Epoch: 088, Train Acc: 0.5989, Test Acc: 0.5830\n",
            "Epoch: 089, Train Acc: 0.5989, Test Acc: 0.5830\n",
            "Epoch: 090, Train Acc: 0.5989, Test Acc: 0.5830\n",
            "Epoch: 091, Train Acc: 0.5989, Test Acc: 0.5830\n",
            "Epoch: 092, Train Acc: 0.5989, Test Acc: 0.5830\n",
            "Epoch: 093, Train Acc: 0.5989, Test Acc: 0.5830\n",
            "Epoch: 094, Train Acc: 0.5989, Test Acc: 0.5830\n",
            "Epoch: 095, Train Acc: 0.5989, Test Acc: 0.5830\n",
            "Epoch: 096, Train Acc: 0.5989, Test Acc: 0.5830\n",
            "Epoch: 097, Train Acc: 0.5989, Test Acc: 0.5830\n",
            "Epoch: 098, Train Acc: 0.5989, Test Acc: 0.5830\n",
            "Epoch: 099, Train Acc: 0.5989, Test Acc: 0.5830\n",
            "Epoch: 100, Train Acc: 0.5989, Test Acc: 0.5830\n",
            "Epoch: 101, Train Acc: 0.5989, Test Acc: 0.5830\n",
            "Epoch: 102, Train Acc: 0.5989, Test Acc: 0.5830\n",
            "Epoch: 103, Train Acc: 0.5989, Test Acc: 0.5830\n",
            "Epoch: 104, Train Acc: 0.5989, Test Acc: 0.5830\n",
            "Epoch: 105, Train Acc: 0.5989, Test Acc: 0.5830\n",
            "Epoch: 106, Train Acc: 0.5989, Test Acc: 0.5830\n",
            "Epoch: 107, Train Acc: 0.5989, Test Acc: 0.5830\n",
            "Epoch: 108, Train Acc: 0.5989, Test Acc: 0.5830\n",
            "Epoch: 109, Train Acc: 0.5989, Test Acc: 0.5830\n",
            "Epoch: 110, Train Acc: 0.5989, Test Acc: 0.5830\n",
            "Epoch: 111, Train Acc: 0.5989, Test Acc: 0.5830\n",
            "Epoch: 112, Train Acc: 0.5989, Test Acc: 0.5830\n",
            "Epoch: 113, Train Acc: 0.5989, Test Acc: 0.5830\n",
            "Epoch: 114, Train Acc: 0.5989, Test Acc: 0.5830\n",
            "Epoch: 115, Train Acc: 0.5989, Test Acc: 0.5830\n",
            "Epoch: 116, Train Acc: 0.5989, Test Acc: 0.5830\n",
            "Epoch: 117, Train Acc: 0.5989, Test Acc: 0.5830\n",
            "Epoch: 118, Train Acc: 0.5989, Test Acc: 0.5830\n",
            "Epoch: 119, Train Acc: 0.5989, Test Acc: 0.5830\n",
            "Epoch: 120, Train Acc: 0.5989, Test Acc: 0.5830\n",
            "Epoch: 121, Train Acc: 0.5989, Test Acc: 0.5830\n",
            "Epoch: 122, Train Acc: 0.5989, Test Acc: 0.5830\n",
            "Epoch: 123, Train Acc: 0.5989, Test Acc: 0.5830\n",
            "Epoch: 124, Train Acc: 0.5989, Test Acc: 0.5830\n",
            "Epoch: 125, Train Acc: 0.5989, Test Acc: 0.5830\n",
            "Epoch: 126, Train Acc: 0.5989, Test Acc: 0.5830\n",
            "Epoch: 127, Train Acc: 0.5989, Test Acc: 0.5830\n",
            "Epoch: 128, Train Acc: 0.5989, Test Acc: 0.5830\n",
            "Epoch: 129, Train Acc: 0.5989, Test Acc: 0.5830\n",
            "Epoch: 130, Train Acc: 0.5989, Test Acc: 0.5830\n",
            "Epoch: 131, Train Acc: 0.5989, Test Acc: 0.5830\n",
            "Epoch: 132, Train Acc: 0.5989, Test Acc: 0.5830\n",
            "Epoch: 133, Train Acc: 0.5989, Test Acc: 0.5830\n",
            "Epoch: 134, Train Acc: 0.5989, Test Acc: 0.5830\n",
            "Epoch: 135, Train Acc: 0.5989, Test Acc: 0.5830\n",
            "Epoch: 136, Train Acc: 0.5989, Test Acc: 0.5830\n",
            "Epoch: 137, Train Acc: 0.5989, Test Acc: 0.5830\n",
            "Epoch: 138, Train Acc: 0.5989, Test Acc: 0.5830\n",
            "Epoch: 139, Train Acc: 0.5989, Test Acc: 0.5830\n",
            "Epoch: 140, Train Acc: 0.5989, Test Acc: 0.5830\n",
            "Epoch: 141, Train Acc: 0.5989, Test Acc: 0.5830\n",
            "Epoch: 142, Train Acc: 0.5989, Test Acc: 0.5830\n",
            "Epoch: 143, Train Acc: 0.5989, Test Acc: 0.5830\n",
            "Epoch: 144, Train Acc: 0.5989, Test Acc: 0.5830\n",
            "Epoch: 145, Train Acc: 0.5989, Test Acc: 0.5830\n",
            "Epoch: 146, Train Acc: 0.5989, Test Acc: 0.5830\n",
            "Epoch: 147, Train Acc: 0.5989, Test Acc: 0.5830\n",
            "Epoch: 148, Train Acc: 0.5989, Test Acc: 0.5830\n",
            "Epoch: 149, Train Acc: 0.5989, Test Acc: 0.5830\n",
            "Epoch: 150, Train Acc: 0.5989, Test Acc: 0.5830\n",
            "Epoch: 151, Train Acc: 0.5989, Test Acc: 0.5830\n",
            "Epoch: 152, Train Acc: 0.5989, Test Acc: 0.5830\n",
            "Epoch: 153, Train Acc: 0.5989, Test Acc: 0.5830\n",
            "Epoch: 154, Train Acc: 0.5989, Test Acc: 0.5830\n",
            "Epoch: 155, Train Acc: 0.5989, Test Acc: 0.5830\n",
            "Epoch: 156, Train Acc: 0.5989, Test Acc: 0.5830\n",
            "Epoch: 157, Train Acc: 0.5989, Test Acc: 0.5830\n",
            "Epoch: 158, Train Acc: 0.5989, Test Acc: 0.5830\n",
            "Epoch: 159, Train Acc: 0.5989, Test Acc: 0.5830\n",
            "Epoch: 160, Train Acc: 0.5989, Test Acc: 0.5830\n",
            "Epoch: 161, Train Acc: 0.5989, Test Acc: 0.5830\n",
            "Epoch: 162, Train Acc: 0.5989, Test Acc: 0.5830\n",
            "Epoch: 163, Train Acc: 0.5989, Test Acc: 0.5830\n",
            "Epoch: 164, Train Acc: 0.5989, Test Acc: 0.5830\n",
            "Epoch: 165, Train Acc: 0.5989, Test Acc: 0.5830\n",
            "Epoch: 166, Train Acc: 0.5989, Test Acc: 0.5830\n",
            "Epoch: 167, Train Acc: 0.5989, Test Acc: 0.5830\n",
            "Epoch: 168, Train Acc: 0.5989, Test Acc: 0.5830\n",
            "Epoch: 169, Train Acc: 0.5989, Test Acc: 0.5830\n",
            "Epoch: 170, Train Acc: 0.5989, Test Acc: 0.5830\n"
          ]
        }
      ]
    },
    {
      "cell_type": "code",
      "source": [
        "for data in test_loader:\n",
        "  out = model(data.x, data.edge_index, data.batch)  \n",
        "  pred = out.argmax(dim=1)  \n",
        "  print(len(pred))\n",
        "  break"
      ],
      "metadata": {
        "colab": {
          "base_uri": "https://localhost:8080/"
        },
        "id": "rmVXzoZ7vT2x",
        "outputId": "f9a5f49f-ae2e-4728-de0a-95b1e34a0e0e"
      },
      "execution_count": null,
      "outputs": [
        {
          "output_type": "stream",
          "name": "stdout",
          "text": [
            "64\n"
          ]
        }
      ]
    },
    {
      "cell_type": "code",
      "source": [
        "import os.path as osp\n",
        "from re import sub\n",
        "from sklearn import neighbors\n",
        "import tqdm\n",
        "import matplotlib.pyplot as plt\n",
        "import torch\n",
        "import torch.nn.functional as F\n",
        "\n",
        "import torch_geometric.transforms as T\n",
        "from torch_geometric.datasets import TUDataset\n",
        "from torch_geometric.nn import GCNConv, GNNExplainer\n",
        "\n",
        "from torch_geometric.loader import DataLoader\n",
        "\n",
        "from torch.nn import Linear\n",
        "import torch.nn.functional as F\n",
        "from torch_geometric.nn import GCNConv\n",
        "from torch_geometric.nn import global_mean_pool\n",
        "from torch_geometric.utils import subgraph\n",
        "import numpy as np\n",
        "\n",
        "import networkx as nx\n",
        "from torch_geometric import utils\n",
        "\n",
        "def expand(starts, ends, target, max_depth=1, prev=[]):\n",
        "    node_neighbors = np.array([ends[idx] for idx, node in enumerate(starts) if node == target and ends[idx] != target])\n",
        "    prev.append(target)\n",
        "    if max_depth > 1:\n",
        "        for n in node_neighbors:\n",
        "            node_neighbors = np.concatenate((node_neighbors, expand(starts, ends, target=n, max_depth=max_depth-1, prev=prev)), axis=0)\n",
        "    indices = np.unique(node_neighbors, return_index=True)[1]\n",
        "    return np.array([node_neighbors[i] for i in sorted(indices)])\n",
        "\n",
        "\n",
        "def process_one_graph(data):\n",
        "    used = []\n",
        "    num_nodes = data.x.shape[0]\n",
        "    subgraph_sizes = [int(num_nodes/n) for n in range(2, 5)]\n",
        "    start_nodes, end_nodes = np.array(data.edge_index)\n",
        "    sub_graphs = []\n",
        "    # make a grow from each node\n",
        "    for target_idx in range(num_nodes):\n",
        "        nodes_to_keep = expand(starts=start_nodes, ends=end_nodes, target=target_idx, max_depth=3, prev=[])\n",
        "        if nodes_to_keep.shape[0] == 0:\n",
        "            continue\n",
        "        for size in subgraph_sizes:\n",
        "            # select the grows based on size\n",
        "            _subset = nodes_to_keep[:size]\n",
        "            # remove repetitive stuff\n",
        "            if set(_subset) in used:\n",
        "                continue\n",
        "            else:\n",
        "                used.append(set(_subset))\n",
        "            _subset = torch.from_numpy(np.array(_subset))\n",
        "            sub_graphs.append((target_idx, data.subgraph(subset=_subset)))\n",
        "    return sub_graphs\n",
        "\n",
        "\n",
        "\n",
        "dataset = 'PROTEINS'\n",
        "path = osp.join(osp.dirname(osp.realpath(\"__file__\")), '..', 'data', 'TUDataset')\n",
        "transform = T.Compose([T.GCNNorm(), T.NormalizeFeatures()])\n",
        "dataset = TUDataset(path, dataset, transform=None)\n",
        "\n",
        "pred_list = []\n",
        "all_subgraphs = []\n",
        "for idx, data in enumerate(tqdm.tqdm(dataset)):\n",
        "    out = model(data.x, data.edge_index, data.batch)  \n",
        "    pred = out.argmax(dim=1) \n",
        "    pred_list.append(pred)\n",
        "\n",
        "    subgraphs = process_one_graph(data)\n",
        "    all_subgraphs.append(subgraphs)\n",
        "    \n",
        "\n",
        "# for target_idx, graph in tqdm.tqdm(all_subgraphs):\n",
        "#     # nx.draw_networkx(utils.to_networkx(graph, remove_self_loops=True))\n",
        "#     # plt.show()\n"
      ],
      "metadata": {
        "colab": {
          "base_uri": "https://localhost:8080/"
        },
        "id": "un3g1IfQNygP",
        "outputId": "6836d9a7-14f5-44de-ffd4-c61cb81ac5ad"
      },
      "execution_count": null,
      "outputs": [
        {
          "output_type": "stream",
          "name": "stderr",
          "text": [
            "100%|██████████| 1113/1113 [01:07<00:00, 16.44it/s]\n"
          ]
        }
      ]
    },
    {
      "cell_type": "code",
      "source": [
        "print(type(all_subgraphs))\n",
        "for data in all_subgraphs:\n",
        "  print(data[1])\n",
        "  break\n",
        "\n"
      ],
      "metadata": {
        "colab": {
          "base_uri": "https://localhost:8080/"
        },
        "id": "Ujoks28cQ85g",
        "outputId": "d80af4f9-b6bd-4515-ee43-9c3298c63b8b"
      },
      "execution_count": null,
      "outputs": [
        {
          "output_type": "stream",
          "name": "stdout",
          "text": [
            "<class 'list'>\n",
            "(1, Data(edge_index=[2, 48], x=[14, 0], y=[1]))\n"
          ]
        }
      ]
    },
    {
      "cell_type": "code",
      "source": [
        "print(type(test_dataset))\n",
        "for test_data in test_dataset:\n",
        "  print(test_data)\n",
        "  break"
      ],
      "metadata": {
        "colab": {
          "base_uri": "https://localhost:8080/"
        },
        "id": "XurrgGlwRAQL",
        "outputId": "8f76b33f-ea39-40f6-b7f0-16341ef0760c"
      },
      "execution_count": null,
      "outputs": [
        {
          "output_type": "stream",
          "name": "stdout",
          "text": [
            "<class 'torch_geometric.datasets.tu_dataset.TUDataset'>\n",
            "Data(edge_index=[2, 120], x=[28, 0], y=[1])\n"
          ]
        }
      ]
    },
    {
      "cell_type": "code",
      "source": [
        "min_sufficient_explanation = [] #list of lists, each inner list correspond to one full graph in TUDataset Protein,\n",
        "#containing each full graph's MSE's\n",
        "for idx, data_collection in enumerate(tqdm.tqdm(all_subgraphs)):\n",
        "  sub_mse = [] #sub_mse for this collection, correspond to one original full graph\n",
        "  for data in data_collection:\n",
        "    out = model(data[1].x, data[1].edge_index, data[1].batch)  \n",
        "    pred = out.argmax(dim=1)  \n",
        "    # if the subgraph's predicted label matches the original full graph's predicted, add to its min_suff_expl list\n",
        "    if torch.eq(pred, pred_list[idx]).item():\n",
        "      sub_mse.append(data)\n",
        "  min_sufficient_explanation.append(sub_mse)\n",
        "\n",
        "  "
      ],
      "metadata": {
        "colab": {
          "base_uri": "https://localhost:8080/"
        },
        "id": "KPIgPYTFHrRA",
        "outputId": "b13321f1-5001-4326-b095-8d8bcecbdfd1"
      },
      "execution_count": null,
      "outputs": [
        {
          "output_type": "stream",
          "name": "stderr",
          "text": [
            "100%|██████████| 1113/1113 [01:17<00:00, 14.41it/s]\n"
          ]
        }
      ]
    },
    {
      "cell_type": "code",
      "source": [
        "print(len(min_sufficient_explanation))\n",
        "print(len(all_subgraphs))\n",
        "for data in all_subgraphs:\n",
        "  print(data)\n",
        "  break\n",
        "\n",
        "for data in min_sufficient_explanation:\n",
        "  print(data)\n",
        "  break"
      ],
      "metadata": {
        "colab": {
          "base_uri": "https://localhost:8080/"
        },
        "id": "EFUl_YvyS-rx",
        "outputId": "f22bd946-2ea2-44e3-eedf-34c23046a6f9"
      },
      "execution_count": null,
      "outputs": [
        {
          "output_type": "stream",
          "name": "stdout",
          "text": [
            "1113\n",
            "1113\n",
            "[(0, Data(edge_index=[2, 24], x=[8, 0], y=[1])), (1, Data(edge_index=[2, 48], x=[14, 0], y=[1])), (1, Data(edge_index=[2, 36], x=[10, 0], y=[1])), (2, Data(edge_index=[2, 70], x=[18, 0], y=[1])), (2, Data(edge_index=[2, 50], x=[14, 0], y=[1])), (2, Data(edge_index=[2, 36], x=[10, 0], y=[1])), (3, Data(edge_index=[2, 52], x=[16, 0], y=[1])), (3, Data(edge_index=[2, 46], x=[14, 0], y=[1])), (3, Data(edge_index=[2, 34], x=[10, 0], y=[1])), (4, Data(edge_index=[2, 46], x=[14, 0], y=[1])), (4, Data(edge_index=[2, 30], x=[10, 0], y=[1])), (5, Data(edge_index=[2, 70], x=[20, 0], y=[1])), (5, Data(edge_index=[2, 50], x=[14, 0], y=[1])), (5, Data(edge_index=[2, 32], x=[10, 0], y=[1])), (6, Data(edge_index=[2, 60], x=[17, 0], y=[1])), (6, Data(edge_index=[2, 40], x=[14, 0], y=[1])), (6, Data(edge_index=[2, 26], x=[10, 0], y=[1])), (7, Data(edge_index=[2, 66], x=[18, 0], y=[1])), (7, Data(edge_index=[2, 42], x=[14, 0], y=[1])), (8, Data(edge_index=[2, 56], x=[15, 0], y=[1])), (8, Data(edge_index=[2, 48], x=[14, 0], y=[1])), (9, Data(edge_index=[2, 56], x=[15, 0], y=[1])), (9, Data(edge_index=[2, 54], x=[14, 0], y=[1])), (9, Data(edge_index=[2, 34], x=[10, 0], y=[1])), (10, Data(edge_index=[2, 34], x=[10, 0], y=[1])), (12, Data(edge_index=[2, 34], x=[10, 0], y=[1])), (13, Data(edge_index=[2, 72], x=[19, 0], y=[1])), (13, Data(edge_index=[2, 44], x=[14, 0], y=[1])), (13, Data(edge_index=[2, 34], x=[10, 0], y=[1])), (14, Data(edge_index=[2, 46], x=[15, 0], y=[1])), (14, Data(edge_index=[2, 44], x=[14, 0], y=[1])), (15, Data(edge_index=[2, 48], x=[16, 0], y=[1])), (15, Data(edge_index=[2, 26], x=[10, 0], y=[1])), (16, Data(edge_index=[2, 50], x=[14, 0], y=[1])), (16, Data(edge_index=[2, 32], x=[10, 0], y=[1])), (17, Data(edge_index=[2, 60], x=[17, 0], y=[1])), (17, Data(edge_index=[2, 42], x=[14, 0], y=[1])), (18, Data(edge_index=[2, 42], x=[14, 0], y=[1])), (19, Data(edge_index=[2, 50], x=[14, 0], y=[1])), (19, Data(edge_index=[2, 20], x=[10, 0], y=[1])), (20, Data(edge_index=[2, 36], x=[10, 0], y=[1])), (22, Data(edge_index=[2, 44], x=[12, 0], y=[1])), (22, Data(edge_index=[2, 28], x=[10, 0], y=[1])), (23, Data(edge_index=[2, 60], x=[18, 0], y=[1])), (23, Data(edge_index=[2, 48], x=[14, 0], y=[1])), (23, Data(edge_index=[2, 34], x=[10, 0], y=[1])), (24, Data(edge_index=[2, 48], x=[15, 0], y=[1])), (24, Data(edge_index=[2, 46], x=[14, 0], y=[1])), (24, Data(edge_index=[2, 24], x=[10, 0], y=[1])), (25, Data(edge_index=[2, 28], x=[10, 0], y=[1])), (26, Data(edge_index=[2, 44], x=[16, 0], y=[1])), (26, Data(edge_index=[2, 36], x=[14, 0], y=[1])), (26, Data(edge_index=[2, 22], x=[10, 0], y=[1])), (27, Data(edge_index=[2, 58], x=[18, 0], y=[1])), (27, Data(edge_index=[2, 42], x=[14, 0], y=[1])), (27, Data(edge_index=[2, 24], x=[10, 0], y=[1])), (28, Data(edge_index=[2, 50], x=[16, 0], y=[1])), (29, Data(edge_index=[2, 52], x=[16, 0], y=[1])), (29, Data(edge_index=[2, 44], x=[14, 0], y=[1])), (29, Data(edge_index=[2, 26], x=[10, 0], y=[1])), (30, Data(edge_index=[2, 52], x=[14, 0], y=[1])), (30, Data(edge_index=[2, 32], x=[10, 0], y=[1])), (31, Data(edge_index=[2, 58], x=[16, 0], y=[1])), (34, Data(edge_index=[2, 70], x=[19, 0], y=[1])), (34, Data(edge_index=[2, 46], x=[14, 0], y=[1])), (34, Data(edge_index=[2, 26], x=[10, 0], y=[1])), (35, Data(edge_index=[2, 34], x=[10, 0], y=[1])), (36, Data(edge_index=[2, 60], x=[19, 0], y=[1])), (36, Data(edge_index=[2, 42], x=[14, 0], y=[1])), (36, Data(edge_index=[2, 28], x=[10, 0], y=[1])), (37, Data(edge_index=[2, 68], x=[20, 0], y=[1])), (37, Data(edge_index=[2, 40], x=[14, 0], y=[1])), (37, Data(edge_index=[2, 22], x=[10, 0], y=[1])), (38, Data(edge_index=[2, 54], x=[17, 0], y=[1])), (38, Data(edge_index=[2, 30], x=[10, 0], y=[1])), (39, Data(edge_index=[2, 30], x=[10, 0], y=[1]))]\n",
            "[(0, Data(edge_index=[2, 24], x=[8, 0], y=[1])), (1, Data(edge_index=[2, 48], x=[14, 0], y=[1])), (1, Data(edge_index=[2, 36], x=[10, 0], y=[1])), (2, Data(edge_index=[2, 70], x=[18, 0], y=[1])), (2, Data(edge_index=[2, 50], x=[14, 0], y=[1])), (2, Data(edge_index=[2, 36], x=[10, 0], y=[1])), (3, Data(edge_index=[2, 52], x=[16, 0], y=[1])), (3, Data(edge_index=[2, 46], x=[14, 0], y=[1])), (3, Data(edge_index=[2, 34], x=[10, 0], y=[1])), (4, Data(edge_index=[2, 46], x=[14, 0], y=[1])), (4, Data(edge_index=[2, 30], x=[10, 0], y=[1])), (5, Data(edge_index=[2, 70], x=[20, 0], y=[1])), (5, Data(edge_index=[2, 50], x=[14, 0], y=[1])), (5, Data(edge_index=[2, 32], x=[10, 0], y=[1])), (6, Data(edge_index=[2, 60], x=[17, 0], y=[1])), (6, Data(edge_index=[2, 40], x=[14, 0], y=[1])), (6, Data(edge_index=[2, 26], x=[10, 0], y=[1])), (7, Data(edge_index=[2, 66], x=[18, 0], y=[1])), (7, Data(edge_index=[2, 42], x=[14, 0], y=[1])), (8, Data(edge_index=[2, 56], x=[15, 0], y=[1])), (8, Data(edge_index=[2, 48], x=[14, 0], y=[1])), (9, Data(edge_index=[2, 56], x=[15, 0], y=[1])), (9, Data(edge_index=[2, 54], x=[14, 0], y=[1])), (9, Data(edge_index=[2, 34], x=[10, 0], y=[1])), (10, Data(edge_index=[2, 34], x=[10, 0], y=[1])), (12, Data(edge_index=[2, 34], x=[10, 0], y=[1])), (13, Data(edge_index=[2, 72], x=[19, 0], y=[1])), (13, Data(edge_index=[2, 44], x=[14, 0], y=[1])), (13, Data(edge_index=[2, 34], x=[10, 0], y=[1])), (14, Data(edge_index=[2, 46], x=[15, 0], y=[1])), (14, Data(edge_index=[2, 44], x=[14, 0], y=[1])), (15, Data(edge_index=[2, 48], x=[16, 0], y=[1])), (15, Data(edge_index=[2, 26], x=[10, 0], y=[1])), (16, Data(edge_index=[2, 50], x=[14, 0], y=[1])), (16, Data(edge_index=[2, 32], x=[10, 0], y=[1])), (17, Data(edge_index=[2, 60], x=[17, 0], y=[1])), (17, Data(edge_index=[2, 42], x=[14, 0], y=[1])), (18, Data(edge_index=[2, 42], x=[14, 0], y=[1])), (19, Data(edge_index=[2, 50], x=[14, 0], y=[1])), (19, Data(edge_index=[2, 20], x=[10, 0], y=[1])), (20, Data(edge_index=[2, 36], x=[10, 0], y=[1])), (22, Data(edge_index=[2, 44], x=[12, 0], y=[1])), (22, Data(edge_index=[2, 28], x=[10, 0], y=[1])), (23, Data(edge_index=[2, 60], x=[18, 0], y=[1])), (23, Data(edge_index=[2, 48], x=[14, 0], y=[1])), (23, Data(edge_index=[2, 34], x=[10, 0], y=[1])), (24, Data(edge_index=[2, 48], x=[15, 0], y=[1])), (24, Data(edge_index=[2, 46], x=[14, 0], y=[1])), (24, Data(edge_index=[2, 24], x=[10, 0], y=[1])), (25, Data(edge_index=[2, 28], x=[10, 0], y=[1])), (26, Data(edge_index=[2, 44], x=[16, 0], y=[1])), (26, Data(edge_index=[2, 36], x=[14, 0], y=[1])), (26, Data(edge_index=[2, 22], x=[10, 0], y=[1])), (27, Data(edge_index=[2, 58], x=[18, 0], y=[1])), (27, Data(edge_index=[2, 42], x=[14, 0], y=[1])), (27, Data(edge_index=[2, 24], x=[10, 0], y=[1])), (28, Data(edge_index=[2, 50], x=[16, 0], y=[1])), (29, Data(edge_index=[2, 52], x=[16, 0], y=[1])), (29, Data(edge_index=[2, 44], x=[14, 0], y=[1])), (29, Data(edge_index=[2, 26], x=[10, 0], y=[1])), (30, Data(edge_index=[2, 52], x=[14, 0], y=[1])), (30, Data(edge_index=[2, 32], x=[10, 0], y=[1])), (31, Data(edge_index=[2, 58], x=[16, 0], y=[1])), (34, Data(edge_index=[2, 70], x=[19, 0], y=[1])), (34, Data(edge_index=[2, 46], x=[14, 0], y=[1])), (34, Data(edge_index=[2, 26], x=[10, 0], y=[1])), (35, Data(edge_index=[2, 34], x=[10, 0], y=[1])), (36, Data(edge_index=[2, 60], x=[19, 0], y=[1])), (36, Data(edge_index=[2, 42], x=[14, 0], y=[1])), (36, Data(edge_index=[2, 28], x=[10, 0], y=[1])), (37, Data(edge_index=[2, 68], x=[20, 0], y=[1])), (37, Data(edge_index=[2, 40], x=[14, 0], y=[1])), (37, Data(edge_index=[2, 22], x=[10, 0], y=[1])), (38, Data(edge_index=[2, 54], x=[17, 0], y=[1])), (38, Data(edge_index=[2, 30], x=[10, 0], y=[1])), (39, Data(edge_index=[2, 30], x=[10, 0], y=[1]))]\n"
          ]
        }
      ]
    },
    {
      "cell_type": "code",
      "source": [
        "#input: \n",
        "# pred_list: [tensor, tensor, tensor ...], len = len(TUDataset/Protein)\n",
        "#   each element is a one-element tensor \n",
        "#   representing the predicted label of one graph in TUDataset/Protein\n",
        "# all_subgraph: [[subgraph, subgraph..], [subgraph, subgraph..]...], len = len(TUDataset/Protein)\n",
        "#   each element is a list of subgraphs obtained from one graph in TUDataset/Protein\n",
        "#   each subgraph is a tuple in the form (k, Data(edge_index=[2, 24], x=[8, 0], y=[1]))\n",
        "#   where k is the index of the node that this subgraph expanded from\n",
        "#output:\n",
        "# min_sufficient_explanation: [[subgraph, subgraph,..], [subgraph, subgraph]...]\n",
        "#   len = len(TUDataset/Protein)\n",
        "#   each element is a list of subgraphs which are the MSEs\n",
        "#   each subgraph is a tuple in the form (k, Data(edge_index=[2, 24], x=[8, 0], y=[1]))\n",
        "#   where k is the index of the node that this subgraph expanded from"
      ],
      "metadata": {
        "id": "Ds8f2jRcOl1C"
      },
      "execution_count": null,
      "outputs": []
    }
  ]
}