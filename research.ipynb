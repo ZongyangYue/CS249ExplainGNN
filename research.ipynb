{
 "cells": [
  {
   "cell_type": "code",
   "execution_count": 2,
   "metadata": {},
   "outputs": [
    {
     "name": "stderr",
     "output_type": "stream",
     "text": [
      "Downloading https://www.chrsmrrs.com/graphkerneldatasets/PROTEINS.zip\n",
      "Extracting C:\\Users\\BigHa\\OneDrive - UCLA IT Services\\Desktop\\Explainer\\data\\TUDataset\\PROTEINS\\PROTEINS.zip\n",
      "Processing...\n",
      "Done!\n"
     ]
    }
   ],
   "source": [
    "import os.path as osp\n",
    "import torch_geometric.transforms as T\n",
    "from torch_geometric.datasets import TUDataset\n",
    "import torch_geometric.utils as utils\n",
    "import networkx as nx\n",
    "\n",
    "dataset = 'PROTEINS'\n",
    "path = osp.join(osp.dirname(osp.realpath(\"__file__\")), '..', 'data', 'TUDataset')\n",
    "transform = T.Compose([T.GCNNorm(), T.NormalizeFeatures()])\n",
    "dataset = TUDataset(path, dataset, transform=transform)\n"
   ]
  },
  {
   "cell_type": "code",
   "execution_count": 36,
   "metadata": {},
   "outputs": [],
   "source": [
    "def beam_subgraphs(data, selected_nodes = None, width = 3):\n",
    "    subgraphs = []\n",
    "    G = utils.to_networkx(data)\n",
    "    method = nx.degree_centrality(G)\n",
    "    if(not selected_nodes):\n",
    "        traverse_list = range(data.x.shape[0])\n",
    "    for source in traverse_list:\n",
    "        res = nx.bfs_beam_edges(G, source, method.get, width)\n",
    "        node_list = [source]\n",
    "        for i,j in res:\n",
    "            node_list.append(j)\n",
    "        subgraph = G.subgraph(node_list)\n",
    "        subgraphs.append(subgraph)\n",
    "    return subgraphs\n"
   ]
  },
  {
   "cell_type": "code",
   "execution_count": 37,
   "metadata": {},
   "outputs": [],
   "source": [
    "all_subgraphs = []\n",
    "for data in dataset:\n",
    "    all_subgraphs.append(beam_subgraphs(data))\n"
   ]
  }
 ],
 "metadata": {
  "interpreter": {
   "hash": "ee9bcca9ed5e6d7a3eca33980a9be655eb25c7c82992aecdd8b3051d74c27db2"
  },
  "kernelspec": {
   "display_name": "Python 3.9.7 ('torch')",
   "language": "python",
   "name": "python3"
  },
  "language_info": {
   "codemirror_mode": {
    "name": "ipython",
    "version": 3
   },
   "file_extension": ".py",
   "mimetype": "text/x-python",
   "name": "python",
   "nbconvert_exporter": "python",
   "pygments_lexer": "ipython3",
   "version": "3.9.7"
  },
  "orig_nbformat": 4
 },
 "nbformat": 4,
 "nbformat_minor": 2
}
